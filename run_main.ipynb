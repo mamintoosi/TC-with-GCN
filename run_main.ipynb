{
 "cells": [
  {
   "cell_type": "code",
   "execution_count": 27,
   "metadata": {},
   "outputs": [
    {
     "name": "stderr",
     "output_type": "stream",
     "text": [
      "clean the text: 10662it [00:00, 30408.74it/s]\n",
      "10662it [00:00, 30213.62it/s]"
     ]
    },
    {
     "name": "stdout",
     "output_type": "stream",
     "text": [
      "Average length: 20.38585631213656\n",
      "doc count: 10662\n",
      "Total number of words: 18764\n"
     ]
    },
    {
     "name": "stderr",
     "output_type": "stream",
     "text": [
      "\n"
     ]
    }
   ],
   "source": [
    "%run data_processor.py"
   ]
  },
  {
   "cell_type": "code",
   "execution_count": 28,
   "metadata": {},
   "outputs": [
    {
     "name": "stdout",
     "output_type": "stream",
     "text": [
      "\n",
      "==> 现在的数据集是:mr<==\n"
     ]
    },
    {
     "name": "stderr",
     "output_type": "stream",
     "text": [
      "generate tfidf edge: 1985it [00:00, 9839.89it/s]"
     ]
    },
    {
     "name": "stdout",
     "output_type": "stream",
     "text": [
      "tfidf time: 0.3178136348724365\n",
      "tfidf_vec shape: (10662, 18764)\n",
      "tfidf_vec type: <class 'scipy.sparse.csr.csr_matrix'>\n",
      "vocab_lst len: 18764\n"
     ]
    },
    {
     "name": "stderr",
     "output_type": "stream",
     "text": [
      "generate tfidf edge: 10662it [00:01, 8450.67it/s]\n",
      "Split by window:   3%|██                                                         | 363/10662 [00:00<00:02, 3594.15it/s]"
     ]
    },
    {
     "name": "stdout",
     "output_type": "stream",
     "text": [
      "+---------+----------+-------------+------------+----------+\n",
      "|  Nodes  |  Edges   |  Selfloops  |  Isolates  |  覆盖度  |\n",
      "+---------+----------+-------------+------------+----------+\n",
      "|  29426  |  196826  |      0      |     0      |  1.0000  |\n",
      "+---------+----------+-------------+------------+----------+\n",
      "pmi read file len: 10662\n"
     ]
    },
    {
     "name": "stderr",
     "output_type": "stream",
     "text": [
      "Split by window: 100%|█████████████████████████████████████████████████████████| 10662/10662 [00:03<00:00, 2970.71it/s]\n",
      "Calculate pmi between words: 100%|███████████████████████████████████████| 1038228/1038228 [00:03<00:00, 321818.45it/s]\n"
     ]
    },
    {
     "name": "stdout",
     "output_type": "stream",
     "text": [
      "Total number of edges between word: 788864\n",
      "pmi time: 6.823136329650879\n",
      "+---------+----------+-------------+------------+----------+\n",
      "|  Nodes  |  Edges   |  Selfloops  |  Isolates  |  覆盖度  |\n",
      "+---------+----------+-------------+------------+----------+\n",
      "|  29426  |  918907  |      0      |     0      |  1.0000  |\n",
      "+---------+----------+-------------+------------+----------+\n",
      "total time: 7.140949964523315\n",
      "\n",
      "\n"
     ]
    }
   ],
   "source": [
    "%run build_graph.py"
   ]
  },
  {
   "cell_type": "code",
   "execution_count": 26,
   "metadata": {},
   "outputs": [
    {
     "data": {
      "text/plain": [
       "(10662, 2)"
      ]
     },
     "execution_count": 26,
     "metadata": {},
     "output_type": "execute_result"
    }
   ],
   "source": [
    "# target_fn = \"../tmp/TCGCN/graph/mr.txt\"\n",
    "target_fn = \"data/mr.txt\"\n",
    "target = np.array(pd.read_csv(target_fn,sep=\"\\t\", header=None, engine='python')[2])\n",
    "target2id = {label: indx for indx, label in enumerate(set(target))}\n",
    "target = [target2id[label] for label in target]\n",
    "nclass = len(target2id)\n",
    "len(target), nclass"
   ]
  },
  {
   "cell_type": "code",
   "execution_count": 29,
   "metadata": {},
   "outputs": [
    {
     "name": "stdout",
     "output_type": "stream",
     "text": [
      "Namespace(data_path='./data', dataset='mr', device=device(type='cpu'), dropout=0.2, early_stopping=10, graph_path='../tmp/TCGCN/graph', lr=0.02, max_epoch=50, nhid=200, temp_path='../tmp/TCGCN', use_gf=False, val_ratio=0.1)\n",
      "prepare data\n",
      "+---------+----------+-------------+------------+----------+\n",
      "|  Nodes  |  Edges   |  Selfloops  |  Isolates  |  覆盖度  |\n",
      "+---------+----------+-------------+------------+----------+\n",
      "|  29426  |  918907  |      0      |     0      |  1.0000  |\n",
      "+---------+----------+-------------+------------+----------+\n",
      "\n",
      "\n",
      "==> 0, seed:73662\n",
      "<bound method Module.parameters of GCN(\n",
      "  (gc1): GraphConvolution (29426 -> 200)\n",
      "  (gc2): GraphConvolution (200 -> 2)\n",
      ")>\n",
      "# model parameters: 5885802\n",
      "epoch:0 train_loss:0.6934 val_loss:0.6776 acc:0.5162 macro_f1:0.6035 precision:0.7577 recall:0.5014 \n",
      "epoch:1 train_loss:0.6625 val_loss:0.6529 acc:0.5851 macro_f1:0.6602 precision:0.7390 recall:0.5966 \n",
      "epoch:2 train_loss:0.6150 val_loss:0.6297 acc:0.6582 macro_f1:0.7119 precision:0.7628 recall:0.6673 \n",
      "epoch:3 train_loss:0.5740 val_loss:0.5954 acc:0.7468 macro_f1:0.7520 precision:0.7548 recall:0.7493 \n",
      "epoch:4 train_loss:0.5229 val_loss:0.5798 acc:0.7511 macro_f1:0.7534 precision:0.7585 recall:0.7483 \n",
      "epoch:5 train_loss:0.4879 val_loss:0.5625 acc:0.7553 macro_f1:0.7570 precision:0.7612 recall:0.7528 \n",
      "epoch:6 train_loss:0.4478 val_loss:0.5439 acc:0.7609 macro_f1:0.7608 precision:0.7608 recall:0.7609 \n",
      "epoch:7 train_loss:0.4057 val_loss:0.5371 acc:0.7567 macro_f1:0.7604 precision:0.7622 recall:0.7587 \n",
      "epoch:8 train_loss:0.3741 val_loss:0.5301 acc:0.7651 macro_f1:0.7669 precision:0.7674 recall:0.7664 \n",
      "epoch:9 train_loss:0.3406 val_loss:0.5288 acc:0.7567 macro_f1:0.7565 precision:0.7572 recall:0.7557 \n",
      "epoch:10 train_loss:0.3109 val_loss:0.5363 acc:0.7637 macro_f1:0.7640 precision:0.7657 recall:0.7622 \n",
      "epoch:11 train_loss:0.2878 val_loss:0.5416 acc:0.7651 macro_f1:0.7649 precision:0.7654 recall:0.7643 \n",
      "epoch:12 train_loss:0.2643 val_loss:0.5526 acc:0.7637 macro_f1:0.7638 precision:0.7637 recall:0.7639 \n",
      "epoch:13 train_loss:0.2450 val_loss:0.5677 acc:0.7623 macro_f1:0.7624 precision:0.7622 recall:0.7625 \n",
      "epoch:14 train_loss:0.2280 val_loss:0.5850 acc:0.7609 macro_f1:0.7606 precision:0.7608 recall:0.7604 \n",
      "epoch:15 train_loss:0.2100 val_loss:0.6073 acc:0.7637 macro_f1:0.7635 precision:0.7641 recall:0.7628 \n",
      "epoch:16 train_loss:0.1967 val_loss:0.6267 acc:0.7665 macro_f1:0.7662 precision:0.7665 recall:0.7660 \n",
      "epoch:17 train_loss:0.1824 val_loss:0.6482 acc:0.7722 macro_f1:0.7720 precision:0.7720 recall:0.7720 \n",
      "epoch:18 train_loss:0.1695 val_loss:0.6725 acc:0.7707 macro_f1:0.7707 precision:0.7706 recall:0.7708 \n",
      "epoch:19 train_loss:0.1582 val_loss:0.6973 acc:0.7693 macro_f1:0.7691 precision:0.7692 recall:0.7691 \n",
      "==> seed set:\n",
      "[73662]\n",
      "\n",
      "test_loss:\n",
      "0.6100\n",
      "0.6100\n",
      "0.6100 \n",
      "acc:\n",
      "0.7583\n",
      "0.7583\n",
      "0.7583 \n",
      "macro_f1:\n",
      "0.7583\n",
      "0.7583\n",
      "0.7583 \n",
      "precision:\n",
      "0.7584\n",
      "0.7584\n",
      "0.7584 \n",
      "recall:\n",
      "0.7583\n",
      "0.7583\n",
      "0.7583 \n",
      "train_time:\n",
      "25.1386\n",
      "25.1386\n",
      "25.1386 \n",
      "model_param:\n",
      "5885802.0000\n",
      "5885802.0000\n",
      "5885802.0000 \n",
      "\n",
      "Wall time: 38.1 s\n"
     ]
    }
   ],
   "source": [
    "%%time\n",
    "%run trainer.py"
   ]
  },
  {
   "cell_type": "code",
   "execution_count": 31,
   "metadata": {},
   "outputs": [
    {
     "name": "stdout",
     "output_type": "stream",
     "text": [
      "Namespace(data_path='./data', dataset='mr', device=device(type='cpu'), dropout=0.2, early_stopping=10, graph_path='../tmp/TCGCN/graph', lr=0.02, max_epoch=50, nhid=200, temp_path='../tmp/TCGCN', use_gf=True, val_ratio=0.1)\n",
      "prepare data\n",
      "+---------+----------+-------------+------------+----------+\n",
      "|  Nodes  |  Edges   |  Selfloops  |  Isolates  |  覆盖度  |\n",
      "+---------+----------+-------------+------------+----------+\n",
      "|  29426  |  918907  |      0      |     0      |  1.0000  |\n",
      "+---------+----------+-------------+------------+----------+\n",
      "\n",
      "\n",
      "==> 0, seed:94451\n",
      "<bound method Module.parameters of GCN(\n",
      "  (gc1): GraphConvolution (29426 -> 200)\n",
      "  (gc2): GraphConvolution (200 -> 2)\n",
      ")>\n",
      "# model parameters: 5885802\n",
      "epoch:0 train_loss:0.7476 val_loss:0.7117 acc:0.5316 macro_f1:0.5716 precision:0.6084 recall:0.5390 \n",
      "epoch:1 train_loss:0.6981 val_loss:0.6993 acc:0.5373 macro_f1:0.5831 precision:0.6274 recall:0.5447 \n",
      "epoch:2 train_loss:0.6748 val_loss:0.6667 acc:0.5935 macro_f1:0.6189 precision:0.6406 recall:0.5986 \n",
      "epoch:3 train_loss:0.6365 val_loss:0.6462 acc:0.6709 macro_f1:0.6707 precision:0.6708 recall:0.6707 \n",
      "epoch:4 train_loss:0.6107 val_loss:0.6341 acc:0.6835 macro_f1:0.6985 precision:0.7183 recall:0.6798 \n",
      "epoch:5 train_loss:0.5909 val_loss:0.6203 acc:0.6864 macro_f1:0.7051 precision:0.7296 recall:0.6823 \n",
      "epoch:6 train_loss:0.5677 val_loss:0.6016 acc:0.7300 macro_f1:0.7358 precision:0.7441 recall:0.7277 \n",
      "epoch:7 train_loss:0.5353 val_loss:0.5828 acc:0.7511 macro_f1:0.7511 precision:0.7511 recall:0.7512 \n",
      "epoch:8 train_loss:0.5026 val_loss:0.5695 acc:0.7609 macro_f1:0.7656 precision:0.7689 recall:0.7624 \n",
      "epoch:9 train_loss:0.4727 val_loss:0.5564 acc:0.7595 macro_f1:0.7656 precision:0.7700 recall:0.7612 \n",
      "epoch:10 train_loss:0.4439 val_loss:0.5401 acc:0.7637 macro_f1:0.7669 precision:0.7689 recall:0.7649 \n",
      "epoch:11 train_loss:0.4131 val_loss:0.5252 acc:0.7764 macro_f1:0.7766 precision:0.7766 recall:0.7766 \n",
      "epoch:12 train_loss:0.3829 val_loss:0.5162 acc:0.7679 macro_f1:0.7682 precision:0.7692 recall:0.7672 \n",
      "epoch:13 train_loss:0.3561 val_loss:0.5110 acc:0.7651 macro_f1:0.7654 precision:0.7664 recall:0.7644 \n",
      "epoch:14 train_loss:0.3319 val_loss:0.5092 acc:0.7623 macro_f1:0.7622 precision:0.7622 recall:0.7622 \n",
      "epoch:15 train_loss:0.3067 val_loss:0.5134 acc:0.7623 macro_f1:0.7626 precision:0.7627 recall:0.7626 \n",
      "epoch:16 train_loss:0.2862 val_loss:0.5196 acc:0.7651 macro_f1:0.7655 precision:0.7656 recall:0.7655 \n",
      "epoch:17 train_loss:0.2656 val_loss:0.5281 acc:0.7553 macro_f1:0.7552 precision:0.7552 recall:0.7551 \n",
      "epoch:18 train_loss:0.2467 val_loss:0.5420 acc:0.7595 macro_f1:0.7595 precision:0.7599 recall:0.7590 \n",
      "epoch:19 train_loss:0.2310 val_loss:0.5586 acc:0.7637 macro_f1:0.7636 precision:0.7637 recall:0.7635 \n",
      "epoch:20 train_loss:0.2141 val_loss:0.5793 acc:0.7595 macro_f1:0.7596 precision:0.7596 recall:0.7596 \n",
      "epoch:21 train_loss:0.1996 val_loss:0.6024 acc:0.7623 macro_f1:0.7625 precision:0.7625 recall:0.7625 \n",
      "epoch:22 train_loss:0.1863 val_loss:0.6267 acc:0.7637 macro_f1:0.7637 precision:0.7636 recall:0.7637 \n",
      "epoch:23 train_loss:0.1729 val_loss:0.6538 acc:0.7651 macro_f1:0.7650 precision:0.7652 recall:0.7648 \n",
      "epoch:24 train_loss:0.1625 val_loss:0.6829 acc:0.7623 macro_f1:0.7622 precision:0.7623 recall:0.7620 \n",
      "==> seed set:\n",
      "[94451]\n",
      "\n",
      "test_loss:\n",
      "0.6003\n",
      "0.6003\n",
      "0.6003 \n",
      "acc:\n",
      "0.7546\n",
      "0.7546\n",
      "0.7546 \n",
      "macro_f1:\n",
      "0.7549\n",
      "0.7549\n",
      "0.7549 \n",
      "precision:\n",
      "0.7552\n",
      "0.7552\n",
      "0.7552 \n",
      "recall:\n",
      "0.7546\n",
      "0.7546\n",
      "0.7546 \n",
      "train_time:\n",
      "31.6983\n",
      "31.6983\n",
      "31.6983 \n",
      "model_param:\n",
      "5885802.0000\n",
      "5885802.0000\n",
      "5885802.0000 \n",
      "\n",
      "Wall time: 1min 15s\n"
     ]
    }
   ],
   "source": [
    "%%time\n",
    "%run trainer.py"
   ]
  },
  {
   "cell_type": "code",
   "execution_count": 9,
   "metadata": {},
   "outputs": [
    {
     "name": "stderr",
     "output_type": "stream",
     "text": [
      "clean the text: 10662it [00:00, 23332.69it/s]\n",
      "10662it [00:00, 19997.43it/s]"
     ]
    },
    {
     "name": "stdout",
     "output_type": "stream",
     "text": [
      "Average length: 20.38585631213656\n",
      "doc count: 10662\n",
      "Total number of words: 18764\n"
     ]
    },
    {
     "name": "stderr",
     "output_type": "stream",
     "text": [
      "\n"
     ]
    }
   ],
   "source": [
    "%run data_processor.py"
   ]
  },
  {
   "cell_type": "code",
   "execution_count": 1,
   "metadata": {
    "scrolled": true
   },
   "outputs": [
    {
     "name": "stdout",
     "output_type": "stream",
     "text": [
      "\n",
      "==> 现在的数据集是:mr<==\n"
     ]
    },
    {
     "name": "stderr",
     "output_type": "stream",
     "text": [
      "generate tfidf edge: 1032it [00:00, 10315.31it/s]"
     ]
    },
    {
     "name": "stdout",
     "output_type": "stream",
     "text": [
      "tfidf time: 0.2519819736480713\n",
      "tfidf_vec shape: (10662, 18764)\n",
      "tfidf_vec type: <class 'scipy.sparse.csr.csr_matrix'>\n",
      "vocab_lst len: 18764\n"
     ]
    },
    {
     "name": "stderr",
     "output_type": "stream",
     "text": [
      "generate tfidf edge: 10662it [00:01, 8840.82it/s]\n",
      "Split by window:   3%|██                                                         | 363/10662 [00:00<00:02, 3594.57it/s]"
     ]
    },
    {
     "name": "stdout",
     "output_type": "stream",
     "text": [
      "+---------+----------+-------------+------------+----------+\n",
      "|  Nodes  |  Edges   |  Selfloops  |  Isolates  |  覆盖度  |\n",
      "+---------+----------+-------------+------------+----------+\n",
      "|  29426  |  196826  |      0      |     0      |  1.0000  |\n",
      "+---------+----------+-------------+------------+----------+\n",
      "pmi read file len: 10662\n"
     ]
    },
    {
     "name": "stderr",
     "output_type": "stream",
     "text": [
      "Split by window: 100%|█████████████████████████████████████████████████████████| 10662/10662 [00:04<00:00, 2608.68it/s]\n",
      "Calculate pmi between words: 100%|███████████████████████████████████████| 1043618/1043618 [00:02<00:00, 520498.23it/s]\n"
     ]
    },
    {
     "name": "stdout",
     "output_type": "stream",
     "text": [
      "Total number of edges between word: 790158\n",
      "pmi time: 6.098142623901367\n",
      "+---------+----------+-------------+------------+----------+\n",
      "|  Nodes  |  Edges   |  Selfloops  |  Isolates  |  覆盖度  |\n",
      "+---------+----------+-------------+------------+----------+\n",
      "|  29426  |  918137  |      0      |     0      |  1.0000  |\n",
      "+---------+----------+-------------+------------+----------+\n",
      "total time: 6.3501245975494385\n",
      "\n",
      "\n"
     ]
    }
   ],
   "source": [
    "%run build_graph.py"
   ]
  },
  {
   "cell_type": "code",
   "execution_count": 5,
   "metadata": {},
   "outputs": [],
   "source": [
    "def b_c(G):\n",
    "    vertices = G.nodes()\n",
    "    new_bc = {}\n",
    "    paths = defaultdict(dict)\n",
    "\n",
    "    # Get shortest paths between all pairs of vertices\n",
    "    for i, vertex in enumerate(vertices[:-1]):\n",
    "        for o_vertex in vertices[i+1:]:\n",
    "            paths[vertex][o_vertex] = [path for path in\n",
    "                                       nx.all_shortest_paths(G, vertex, o_vertex)]\n",
    "\n",
    "    for vertex in vertices:\n",
    "        counter = 0\n",
    "        for i, vertex1 in enumerate(vertices[:-1]):\n",
    "            for vertex2 in vertices[i+1:]:\n",
    "                for path in paths[vertex1][vertex2]:\n",
    "                    if vertex in path[1:-1]:\n",
    "                        counter += 1\n",
    "        new_bc[vertex] = counter\n",
    "\n",
    "    return new_bc"
   ]
  },
  {
   "cell_type": "code",
   "execution_count": 21,
   "metadata": {},
   "outputs": [
    {
     "data": {
      "text/plain": [
       "(29426, {})"
      ]
     },
     "execution_count": 21,
     "metadata": {},
     "output_type": "execute_result"
    }
   ],
   "source": [
    "vertices = G.g.nodes()\n",
    "len(vertices), vertices\n",
    "# for i, vertex in enumerate(vertices[:-1]):\n",
    "#     print(i)"
   ]
  },
  {
   "cell_type": "code",
   "execution_count": 32,
   "metadata": {},
   "outputs": [
    {
     "data": {
      "text/plain": [
       "tensor(indices=tensor([[0, 1, 2],\n",
       "                       [0, 1, 2]]),\n",
       "       values=tensor([10., 20., 30.]),\n",
       "       size=(3, 3), nnz=3, layout=torch.sparse_coo)"
      ]
     },
     "execution_count": 32,
     "metadata": {},
     "output_type": "execute_result"
    }
   ],
   "source": [
    "import torch as th\n",
    "import numpy as np\n",
    "value = [10,20,30]#[1.] * 3\n",
    "shape = (3, 3)\n",
    "indices = th.from_numpy(\n",
    "        np.vstack((list(range(3)), list(range(3)))).astype(np.int64))\n",
    "values = th.FloatTensor(value)\n",
    "shape = th.Size(shape)\n",
    "features = th.sparse.FloatTensor(indices, values, shape)\n",
    "features"
   ]
  },
  {
   "cell_type": "code",
   "execution_count": null,
   "metadata": {},
   "outputs": [],
   "source": [
    "from networkx.algorithms.centrality import eigenvector_centrality\n",
    "ec = eigenvector_centrality(G.g)\n",
    "\n",
    "# موارد زیر جواب ندادن\n",
    "# closeness_centrality\n",
    "#betweenness_centrality\n",
    "# bc = betweenness_centrality(G.g, k =1000)\n",
    "\n",
    "# bc = b_c(G.g)"
   ]
  },
  {
   "cell_type": "code",
   "execution_count": 67,
   "metadata": {},
   "outputs": [
    {
     "data": {
      "text/plain": [
       "(1.4121735301786423e-72, 0.14859581062595026, 0.00373242862585294)"
      ]
     },
     "execution_count": 67,
     "metadata": {},
     "output_type": "execute_result"
    }
   ],
   "source": [
    "# len(ec), ec[1]\n",
    "# type(ec)\n",
    "# ec.value\n",
    "# Creates a sorted dictionary (sorted by key)\n",
    "from collections import OrderedDict\n",
    "\n",
    "# dict = {'ravi':'10','rajnish':'9','sanjeev':'15','yash':'2','suraj':'32'}\n",
    "dict1 = OrderedDict(sorted(ec.items()))\n",
    "# print(dict1)\n",
    "# ec_list = dict1.values()\n",
    "ec_list = [x for x in dict1.values()]\n",
    "# list(ec_list)\n",
    "np.min(ec_list), np.max(ec_list), np.mean(ec_list)"
   ]
  },
  {
   "cell_type": "code",
   "execution_count": 68,
   "metadata": {},
   "outputs": [
    {
     "data": {
      "text/plain": [
       "[0.003201180323761659,\n",
       " 0.00041326022033528353,\n",
       " 0.0018442263122221427,\n",
       " 0.0023540925747042147]"
      ]
     },
     "execution_count": 68,
     "metadata": {},
     "output_type": "execute_result"
    }
   ],
   "source": [
    "ec_list[:4]"
   ]
  },
  {
   "cell_type": "code",
   "execution_count": 25,
   "metadata": {},
   "outputs": [
    {
     "data": {
      "text/plain": [
       "AtlasView({27573: {'weight': 5.855600689586108}, 26169: {'weight': 5.855600689586108}, 25806: {'weight': 10.274441297382706}, 25548: {'weight': 8.888146936262816}, 23636: {'weight': 10.274441297382706}, 23559: {'weight': 10.274441297382706}, 22465: {'weight': 5.070434610305911}, 22149: {'weight': 1.8349934545913218}, 20475: {'weight': 3.7119972036889863}, 20428: {'weight': 10.274441297382706}, 19699: {'weight': 2.240134361043218}, 19590: {'weight': 4.2582841376843525}, 19538: {'weight': 6.304149383830585}, 19178: {'weight': 2.5195310253612764}, 18998: {'weight': 6.34261566465838}, 18685: {'weight': 3.9718223216378012}, 18493: {'weight': 4.654040431665557}, 18225: {'weight': 8.665003384948605}, 14635: {'weight': 9.175829008714597}, 13717: {'weight': 8.077216720046486}, 13170: {'weight': 8.48268182815465}, 12994: {'weight': 8.19499975570287}, 12008: {'weight': 3.1229558334779712}, 11720: {'weight': 1.7656835847875705}, 11141: {'weight': 5.029217154367105}, 10954: {'weight': 1.5465010749888104}, 10834: {'weight': 10.274441297382706}, 10663: {'weight': 5.297707554962132}})"
      ]
     },
     "execution_count": 25,
     "metadata": {},
     "output_type": "execute_result"
    }
   ],
   "source": [
    "# len(G.g.nodes())\n",
    "G.g[0]"
   ]
  },
  {
   "cell_type": "code",
   "execution_count": null,
   "metadata": {},
   "outputs": [],
   "source": [
    "pos = nx.nx_pydot.pydot_layout(G.g)\n",
    "plt.figure()    \n",
    "nx.draw(G.g,pos,edge_color='black',width=1,linewidths=1, node_size=10,node_color='blue',alpha=0.9)\n",
    "plt.axis('on')\n",
    "plt.show()"
   ]
  },
  {
   "cell_type": "code",
   "execution_count": null,
   "metadata": {},
   "outputs": [],
   "source": [
    "import networkx as nx \n",
    "import matplotlib.pyplot as plt \n",
    "\n",
    "fig = plt.figure(figsize=(40, 40)) \n",
    "# G = nx.fast_gnp_random_graph(300, 0.02, seed=1337) \n",
    "nx.draw(G.g, node_size=30) \n",
    "plt.axis('equal') \n",
    "plt.show() \n",
    "fig.savefig('waka.svg')"
   ]
  }
 ],
 "metadata": {
  "kernelspec": {
   "display_name": "Python 3",
   "language": "python",
   "name": "python3"
  },
  "language_info": {
   "codemirror_mode": {
    "name": "ipython",
    "version": 3
   },
   "file_extension": ".py",
   "mimetype": "text/x-python",
   "name": "python",
   "nbconvert_exporter": "python",
   "pygments_lexer": "ipython3",
   "version": "3.7.6"
  }
 },
 "nbformat": 4,
 "nbformat_minor": 4
}
