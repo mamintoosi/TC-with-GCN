{
 "cells": [
  {
   "cell_type": "code",
   "execution_count": null,
   "metadata": {},
   "outputs": [],
   "source": [
    "%run data_processor.py"
   ]
  },
  {
   "cell_type": "code",
   "execution_count": null,
   "metadata": {},
   "outputs": [],
   "source": [
    "%run build_graph.py"
   ]
  },
  {
   "cell_type": "code",
   "execution_count": 69,
   "metadata": {},
   "outputs": [
    {
     "name": "stdout",
     "output_type": "stream",
     "text": [
      "Namespace(data_path='./data', dataset='R8', device=device(type='cpu'), dropout=0.2, early_stopping=10, graph_path='../tmp/TCGCN/graph', lr=0.02, max_epoch=50, nhid=200, tmp_path='../tmp/TCGCN', use_gf=False, val_ratio=0.1)\n",
      "prepare data\n",
      "+---------+-----------+-------------+------------+----------+\n",
      "|  Nodes  |   Edges   |  Selfloops  |  Isolates  |  覆盖度  |\n",
      "+---------+-----------+-------------+------------+----------+\n",
      "|  15362  |  1673322  |      0      |     0      |  1.0000  |\n",
      "+---------+-----------+-------------+------------+----------+\n",
      "\n",
      "\n",
      "==> 0, seed:63178\n",
      "<bound method Module.parameters of GCN(\n",
      "  (gc1): GraphConvolution (15362 -> 200)\n",
      "  (gc2): GraphConvolution (200 -> 8)\n",
      ")>\n",
      "# model parameters: 3074208\n",
      "\n",
      "\n",
      "==> 1, seed:85808\n",
      "<bound method Module.parameters of GCN(\n",
      "  (gc1): GraphConvolution (15362 -> 200)\n",
      "  (gc2): GraphConvolution (200 -> 8)\n",
      ")>\n",
      "# model parameters: 3074208\n",
      "\n",
      "\n",
      "==> 2, seed:21742\n",
      "<bound method Module.parameters of GCN(\n",
      "  (gc1): GraphConvolution (15362 -> 200)\n",
      "  (gc2): GraphConvolution (200 -> 8)\n",
      ")>\n",
      "# model parameters: 3074208\n",
      "\n",
      "\n",
      "==> 3, seed:26183\n",
      "<bound method Module.parameters of GCN(\n",
      "  (gc1): GraphConvolution (15362 -> 200)\n",
      "  (gc2): GraphConvolution (200 -> 8)\n",
      ")>\n",
      "# model parameters: 3074208\n",
      "\n",
      "\n",
      "==> 4, seed:56556\n",
      "<bound method Module.parameters of GCN(\n",
      "  (gc1): GraphConvolution (15362 -> 200)\n",
      "  (gc2): GraphConvolution (200 -> 8)\n",
      ")>\n",
      "# model parameters: 3074208\n",
      "==> seed set:\n",
      "[63178, 85808, 21742, 26183, 56556]\n",
      "\n",
      "test_loss:\n",
      "0.1605\n",
      "0.1704\n",
      "0.1521 \n",
      "acc:\n",
      "0.9620\n",
      "0.9648\n",
      "0.9593 \n",
      "macro_f1:\n",
      "0.8584\n",
      "0.8779\n",
      "0.8427 \n",
      "precision:\n",
      "0.9232\n",
      "0.9285\n",
      "0.9184 \n",
      "recall:\n",
      "0.8025\n",
      "0.8399\n",
      "0.7715 \n",
      "train_time:\n",
      "103.1924\n",
      "118.4769\n",
      "95.4821 \n",
      "model_param:\n",
      "3074208.0000\n",
      "3074208.0000\n",
      "3074208.0000 \n",
      "\n",
      "Wall time: 9min 14s\n"
     ]
    }
   ],
   "source": [
    "%%time\n",
    "# Vanilla\n",
    "%run trainer.py"
   ]
  },
  {
   "cell_type": "code",
   "execution_count": 68,
   "metadata": {},
   "outputs": [
    {
     "name": "stdout",
     "output_type": "stream",
     "text": [
      "Namespace(data_path='./data', dataset='R8', device=device(type='cpu'), dropout=0.2, early_stopping=10, graph_path='../tmp/TCGCN/graph', lr=0.02, max_epoch=50, nhid=200, tmp_path='../tmp/TCGCN', use_gf=True, val_ratio=0.1)\n",
      "prepare data\n",
      "+---------+-----------+-------------+------------+----------+\n",
      "|  Nodes  |   Edges   |  Selfloops  |  Isolates  |  覆盖度  |\n",
      "+---------+-----------+-------------+------------+----------+\n",
      "|  15362  |  1673322  |      0      |     0      |  1.0000  |\n",
      "+---------+-----------+-------------+------------+----------+\n",
      "Is subgraph connected:  True\n",
      "+---------+-----------+-------------+------------+----------+\n",
      "|  Nodes  |   Edges   |  Selfloops  |  Isolates  |  覆盖度  |\n",
      "+---------+-----------+-------------+------------+----------+\n",
      "|   7688  |  1349652  |      0      |     0      |  1.0000  |\n",
      "+---------+-----------+-------------+------------+----------+\n",
      "[0.20979919205544756, 0.26159571491160943, 0.26363128309917433, 0.4427468067106428, 0.30478138343953814, 0.4258723130404813, 0.23474107067228445, 0.9373296439142378, 0.5409431268831396, 0.4992369484423848]\n",
      "\n",
      "\n",
      "==> 0, seed:35707\n",
      "<bound method Module.parameters of GCN(\n",
      "  (gc1): GraphConvolution (15362 -> 200)\n",
      "  (gc2): GraphConvolution (200 -> 8)\n",
      ")>\n",
      "# model parameters: 3074208\n",
      "\n",
      "\n",
      "==> 1, seed:53509\n",
      "<bound method Module.parameters of GCN(\n",
      "  (gc1): GraphConvolution (15362 -> 200)\n",
      "  (gc2): GraphConvolution (200 -> 8)\n",
      ")>\n",
      "# model parameters: 3074208\n",
      "\n",
      "\n",
      "==> 2, seed:16195\n",
      "<bound method Module.parameters of GCN(\n",
      "  (gc1): GraphConvolution (15362 -> 200)\n",
      "  (gc2): GraphConvolution (200 -> 8)\n",
      ")>\n",
      "# model parameters: 3074208\n",
      "\n",
      "\n",
      "==> 3, seed:70644\n",
      "<bound method Module.parameters of GCN(\n",
      "  (gc1): GraphConvolution (15362 -> 200)\n",
      "  (gc2): GraphConvolution (200 -> 8)\n",
      ")>\n",
      "# model parameters: 3074208\n",
      "\n",
      "\n",
      "==> 4, seed:90025\n",
      "<bound method Module.parameters of GCN(\n",
      "  (gc1): GraphConvolution (15362 -> 200)\n",
      "  (gc2): GraphConvolution (200 -> 8)\n",
      ")>\n",
      "# model parameters: 3074208\n",
      "==> seed set:\n",
      "[35707, 53509, 16195, 70644, 90025]\n",
      "\n",
      "test_loss:\n",
      "0.1587\n",
      "0.1668\n",
      "0.1504 \n",
      "acc:\n",
      "0.9614\n",
      "0.9657\n",
      "0.9580 \n",
      "macro_f1:\n",
      "0.8585\n",
      "0.8783\n",
      "0.8395 \n",
      "precision:\n",
      "0.9237\n",
      "0.9347\n",
      "0.9175 \n",
      "recall:\n",
      "0.8022\n",
      "0.8282\n",
      "0.7736 \n",
      "train_time:\n",
      "101.5461\n",
      "116.3954\n",
      "88.9367 \n",
      "model_param:\n",
      "3074208.0000\n",
      "3074208.0000\n",
      "3074208.0000 \n",
      "\n",
      "Wall time: 9min 53s\n"
     ]
    }
   ],
   "source": [
    "%%time\n",
    "# EC\n",
    "%run trainer.py"
   ]
  },
  {
   "cell_type": "code",
   "execution_count": null,
   "metadata": {},
   "outputs": [],
   "source": [
    "G.node_num\n",
    "# subgraph = G.g.subgraph(np.arange(5))\n",
    "# subgraph.nodes()\n"
   ]
  },
  {
   "cell_type": "code",
   "execution_count": null,
   "metadata": {},
   "outputs": [],
   "source": [
    "%run data_processor.py"
   ]
  },
  {
   "cell_type": "code",
   "execution_count": null,
   "metadata": {
    "scrolled": true
   },
   "outputs": [],
   "source": [
    "%run build_graph.py"
   ]
  },
  {
   "cell_type": "code",
   "execution_count": null,
   "metadata": {},
   "outputs": [],
   "source": [
    "def b_c(G):\n",
    "    vertices = G.nodes()\n",
    "    new_bc = {}\n",
    "    paths = defaultdict(dict)\n",
    "\n",
    "    # Get shortest paths between all pairs of vertices\n",
    "    for i, vertex in enumerate(vertices[:-1]):\n",
    "        for o_vertex in vertices[i+1:]:\n",
    "            paths[vertex][o_vertex] = [path for path in\n",
    "                                       nx.all_shortest_paths(G, vertex, o_vertex)]\n",
    "\n",
    "    for vertex in vertices:\n",
    "        counter = 0\n",
    "        for i, vertex1 in enumerate(vertices[:-1]):\n",
    "            for vertex2 in vertices[i+1:]:\n",
    "                for path in paths[vertex1][vertex2]:\n",
    "                    if vertex in path[1:-1]:\n",
    "                        counter += 1\n",
    "        new_bc[vertex] = counter\n",
    "\n",
    "    return new_bc"
   ]
  },
  {
   "cell_type": "code",
   "execution_count": null,
   "metadata": {},
   "outputs": [],
   "source": [
    "vertices = G.g.nodes()\n",
    "len(vertices), vertices\n",
    "# for i, vertex in enumerate(vertices[:-1]):\n",
    "#     print(i)"
   ]
  },
  {
   "cell_type": "code",
   "execution_count": null,
   "metadata": {},
   "outputs": [],
   "source": [
    "import torch as th\n",
    "import numpy as np\n",
    "value = [10,20,30]#[1.] * 3\n",
    "shape = (3, 3)\n",
    "indices = th.from_numpy(\n",
    "        np.vstack((list(range(3)), list(range(3)))).astype(np.int64))\n",
    "values = th.FloatTensor(value)\n",
    "shape = th.Size(shape)\n",
    "features = th.sparse.FloatTensor(indices, values, shape)\n",
    "features"
   ]
  },
  {
   "cell_type": "code",
   "execution_count": null,
   "metadata": {},
   "outputs": [],
   "source": [
    "from networkx.algorithms.centrality import eigenvector_centrality\n",
    "ec = eigenvector_centrality(G.g)\n",
    "\n",
    "# موارد زیر جواب ندادن\n",
    "# closeness_centrality\n",
    "#betweenness_centrality\n",
    "# bc = betweenness_centrality(G.g, k =1000)\n",
    "\n",
    "# bc = b_c(G.g)"
   ]
  },
  {
   "cell_type": "code",
   "execution_count": null,
   "metadata": {},
   "outputs": [],
   "source": [
    "# len(ec), ec[1]\n",
    "# type(ec)\n",
    "# ec.value\n",
    "# Creates a sorted dictionary (sorted by key)\n",
    "from collections import OrderedDict\n",
    "\n",
    "# dict = {'ravi':'10','rajnish':'9','sanjeev':'15','yash':'2','suraj':'32'}\n",
    "dict1 = OrderedDict(sorted(ec.items()))\n",
    "# print(dict1)\n",
    "# ec_list = dict1.values()\n",
    "ec_list = [x for x in dict1.values()]\n",
    "# list(ec_list)\n",
    "np.min(ec_list), np.max(ec_list), np.mean(ec_list)"
   ]
  },
  {
   "cell_type": "code",
   "execution_count": null,
   "metadata": {},
   "outputs": [],
   "source": [
    "ec_list[:4]"
   ]
  },
  {
   "cell_type": "code",
   "execution_count": null,
   "metadata": {},
   "outputs": [],
   "source": [
    "# len(G.g.nodes())\n",
    "G.g[0]"
   ]
  },
  {
   "cell_type": "code",
   "execution_count": null,
   "metadata": {},
   "outputs": [],
   "source": [
    "pos = nx.nx_pydot.pydot_layout(G.g)\n",
    "plt.figure()    \n",
    "nx.draw(G.g,pos,edge_color='black',width=1,linewidths=1, node_size=10,node_color='blue',alpha=0.9)\n",
    "plt.axis('on')\n",
    "plt.show()"
   ]
  },
  {
   "cell_type": "code",
   "execution_count": null,
   "metadata": {},
   "outputs": [],
   "source": [
    "import networkx as nx \n",
    "import matplotlib.pyplot as plt \n",
    "\n",
    "fig = plt.figure(figsize=(40, 40)) \n",
    "# G = nx.fast_gnp_random_graph(300, 0.02, seed=1337) \n",
    "nx.draw(G.g, node_size=30) \n",
    "plt.axis('equal') \n",
    "plt.show() \n",
    "fig.savefig('waka.svg')"
   ]
  }
 ],
 "metadata": {
  "kernelspec": {
   "display_name": "Python 3",
   "language": "python",
   "name": "python3"
  },
  "language_info": {
   "codemirror_mode": {
    "name": "ipython",
    "version": 3
   },
   "file_extension": ".py",
   "mimetype": "text/x-python",
   "name": "python",
   "nbconvert_exporter": "python",
   "pygments_lexer": "ipython3",
   "version": "3.7.6"
  }
 },
 "nbformat": 4,
 "nbformat_minor": 4
}
