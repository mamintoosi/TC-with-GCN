{
 "cells": [
  {
   "cell_type": "code",
   "execution_count": 75,
   "metadata": {},
   "outputs": [
    {
     "name": "stdout",
     "output_type": "stream",
     "text": [
      "Namespace(dataset='mr', device=device(type='cpu'), dropout=0.2, early_stopping=10, lr=0.02, max_epoch=50, nhid=200, use_gf=False, val_ratio=0.1)\n",
      "prepare data\n",
      "+---------+----------+-------------+------------+----------+\n",
      "|  Nodes  |  Edges   |  Selfloops  |  Isolates  |  覆盖度  |\n",
      "+---------+----------+-------------+------------+----------+\n",
      "|  29426  |  918137  |      0      |     0      |  1.0000  |\n",
      "+---------+----------+-------------+------------+----------+\n",
      "\n",
      "\n",
      "==> 0, seed:8898\n",
      "<bound method Module.parameters of GCN(\n",
      "  (gc1): GraphConvolution (29426 -> 200)\n",
      "  (gc2): GraphConvolution (200 -> 2)\n",
      ")>\n",
      "# model parameters: 5885802\n",
      "epoch:0 train_loss:0.7295 val_loss:0.7069 acc:0.5401 macro_f1:0.5636 precision:0.6147 recall:0.5203 \n",
      "epoch:1 train_loss:0.7077 val_loss:0.6760 acc:0.5752 macro_f1:0.5969 precision:0.6406 recall:0.5587 \n",
      "epoch:2 train_loss:0.6621 val_loss:0.6522 acc:0.6624 macro_f1:0.6614 precision:0.6642 recall:0.6586 \n",
      "epoch:3 train_loss:0.6225 val_loss:0.6482 acc:0.6399 macro_f1:0.6829 precision:0.7168 recall:0.6522 \n",
      "epoch:4 train_loss:0.6031 val_loss:0.6420 acc:0.6231 macro_f1:0.6768 precision:0.7220 recall:0.6368 \n",
      "epoch:5 train_loss:0.5825 val_loss:0.6227 acc:0.6850 macro_f1:0.7174 precision:0.7413 recall:0.6949 \n",
      "epoch:6 train_loss:0.5504 val_loss:0.5986 acc:0.7314 macro_f1:0.7340 precision:0.7345 recall:0.7335 \n",
      "epoch:7 train_loss:0.5149 val_loss:0.5810 acc:0.7482 macro_f1:0.7487 precision:0.7526 recall:0.7448 \n",
      "epoch:8 train_loss:0.4833 val_loss:0.5696 acc:0.7328 macro_f1:0.7364 precision:0.7459 recall:0.7271 \n",
      "epoch:9 train_loss:0.4543 val_loss:0.5570 acc:0.7271 macro_f1:0.7283 precision:0.7340 recall:0.7227 \n",
      "epoch:10 train_loss:0.4234 val_loss:0.5464 acc:0.7454 macro_f1:0.7447 precision:0.7455 recall:0.7439 \n",
      "epoch:11 train_loss:0.3929 val_loss:0.5428 acc:0.7384 macro_f1:0.7397 precision:0.7397 recall:0.7397 \n",
      "epoch:12 train_loss:0.3671 val_loss:0.5423 acc:0.7412 macro_f1:0.7435 precision:0.7439 recall:0.7432 \n",
      "epoch:13 train_loss:0.3434 val_loss:0.5388 acc:0.7440 macro_f1:0.7452 precision:0.7451 recall:0.7453 \n",
      "epoch:14 train_loss:0.3194 val_loss:0.5373 acc:0.7482 macro_f1:0.7479 precision:0.7478 recall:0.7479 \n",
      "epoch:15 train_loss:0.2969 val_loss:0.5414 acc:0.7468 macro_f1:0.7462 precision:0.7465 recall:0.7459 \n",
      "epoch:16 train_loss:0.2783 val_loss:0.5484 acc:0.7539 macro_f1:0.7536 precision:0.7534 recall:0.7537 \n",
      "epoch:17 train_loss:0.2590 val_loss:0.5613 acc:0.7539 macro_f1:0.7555 precision:0.7556 recall:0.7554 \n",
      "epoch:18 train_loss:0.2415 val_loss:0.5761 acc:0.7511 macro_f1:0.7537 precision:0.7543 recall:0.7532 \n",
      "epoch:19 train_loss:0.2276 val_loss:0.5848 acc:0.7609 macro_f1:0.7623 precision:0.7622 recall:0.7623 \n",
      "epoch:20 train_loss:0.2113 val_loss:0.5955 acc:0.7651 macro_f1:0.7651 precision:0.7649 recall:0.7653 \n",
      "epoch:21 train_loss:0.1992 val_loss:0.6114 acc:0.7651 macro_f1:0.7652 precision:0.7650 recall:0.7655 \n",
      "epoch:22 train_loss:0.1852 val_loss:0.6318 acc:0.7637 macro_f1:0.7649 precision:0.7648 recall:0.7650 \n",
      "epoch:23 train_loss:0.1727 val_loss:0.6560 acc:0.7539 macro_f1:0.7563 precision:0.7568 recall:0.7559 \n",
      "epoch:24 train_loss:0.1621 val_loss:0.6738 acc:0.7539 macro_f1:0.7561 precision:0.7564 recall:0.7558 \n",
      "==> seed set:\n",
      "[8898]\n",
      "\n",
      "test_loss:\n",
      "0.5872\n",
      "0.5872\n",
      "0.5872 \n",
      "acc:\n",
      "0.7600\n",
      "0.7600\n",
      "0.7600 \n",
      "macro_f1:\n",
      "0.7603\n",
      "0.7603\n",
      "0.7603 \n",
      "precision:\n",
      "0.7606\n",
      "0.7606\n",
      "0.7606 \n",
      "recall:\n",
      "0.7600\n",
      "0.7600\n",
      "0.7600 \n",
      "train_time:\n",
      "32.2783\n",
      "32.2783\n",
      "32.2783 \n",
      "model_param:\n",
      "5885802.0000\n",
      "5885802.0000\n",
      "5885802.0000 \n",
      "\n",
      "Wall time: 44.1 s\n"
     ]
    }
   ],
   "source": [
    "%%time\n",
    "%run trainer.py"
   ]
  },
  {
   "cell_type": "code",
   "execution_count": 74,
   "metadata": {},
   "outputs": [
    {
     "name": "stdout",
     "output_type": "stream",
     "text": [
      "Namespace(dataset='mr', device=device(type='cpu'), dropout=0.2, early_stopping=10, lr=0.02, max_epoch=50, nhid=200, use_gf=True, val_ratio=0.1)\n",
      "prepare data\n",
      "+---------+----------+-------------+------------+----------+\n",
      "|  Nodes  |  Edges   |  Selfloops  |  Isolates  |  覆盖度  |\n",
      "+---------+----------+-------------+------------+----------+\n",
      "|  29426  |  918137  |      0      |     0      |  1.0000  |\n",
      "+---------+----------+-------------+------------+----------+\n",
      "\n",
      "\n",
      "==> 0, seed:33926\n",
      "<bound method Module.parameters of GCN(\n",
      "  (gc1): GraphConvolution (29426 -> 200)\n",
      "  (gc2): GraphConvolution (200 -> 2)\n",
      ")>\n",
      "# model parameters: 5885802\n",
      "epoch:0 train_loss:0.7683 val_loss:0.7242 acc:0.4712 macro_f1:0.4825 precision:0.4777 recall:0.4874 \n",
      "epoch:1 train_loss:0.6950 val_loss:0.7357 acc:0.4979 macro_f1:0.5370 precision:0.5572 recall:0.5183 \n",
      "epoch:2 train_loss:0.6876 val_loss:0.7046 acc:0.5077 macro_f1:0.5372 precision:0.5498 recall:0.5251 \n",
      "epoch:3 train_loss:0.6542 val_loss:0.6727 acc:0.5724 macro_f1:0.5851 precision:0.5897 recall:0.5806 \n",
      "epoch:4 train_loss:0.6245 val_loss:0.6535 acc:0.6470 macro_f1:0.6463 precision:0.6526 recall:0.6402 \n",
      "epoch:5 train_loss:0.6047 val_loss:0.6410 acc:0.6414 macro_f1:0.6485 precision:0.6682 recall:0.6299 \n",
      "epoch:6 train_loss:0.5871 val_loss:0.6282 acc:0.6723 macro_f1:0.6789 precision:0.6963 recall:0.6624 \n",
      "epoch:7 train_loss:0.5632 val_loss:0.6155 acc:0.7215 macro_f1:0.7206 precision:0.7229 recall:0.7183 \n",
      "epoch:8 train_loss:0.5345 val_loss:0.6079 acc:0.7075 macro_f1:0.7111 precision:0.7118 recall:0.7104 \n",
      "epoch:9 train_loss:0.5085 val_loss:0.6040 acc:0.7117 macro_f1:0.7254 precision:0.7326 recall:0.7184 \n",
      "epoch:10 train_loss:0.4860 val_loss:0.5960 acc:0.7117 macro_f1:0.7254 precision:0.7326 recall:0.7184 \n",
      "epoch:11 train_loss:0.4617 val_loss:0.5798 acc:0.7243 macro_f1:0.7322 precision:0.7353 recall:0.7291 \n",
      "epoch:12 train_loss:0.4335 val_loss:0.5622 acc:0.7370 macro_f1:0.7380 precision:0.7378 recall:0.7382 \n",
      "epoch:13 train_loss:0.4069 val_loss:0.5501 acc:0.7454 macro_f1:0.7445 precision:0.7452 recall:0.7438 \n",
      "epoch:14 train_loss:0.3833 val_loss:0.5436 acc:0.7398 macro_f1:0.7390 precision:0.7409 recall:0.7370 \n",
      "epoch:15 train_loss:0.3610 val_loss:0.5404 acc:0.7482 macro_f1:0.7473 precision:0.7485 recall:0.7462 \n",
      "epoch:16 train_loss:0.3368 val_loss:0.5418 acc:0.7511 macro_f1:0.7504 precision:0.7505 recall:0.7502 \n",
      "epoch:17 train_loss:0.3137 val_loss:0.5473 acc:0.7468 macro_f1:0.7470 precision:0.7467 recall:0.7473 \n",
      "epoch:18 train_loss:0.2934 val_loss:0.5520 acc:0.7496 macro_f1:0.7496 precision:0.7493 recall:0.7499 \n",
      "epoch:19 train_loss:0.2742 val_loss:0.5558 acc:0.7525 macro_f1:0.7517 precision:0.7519 recall:0.7516 \n",
      "epoch:20 train_loss:0.2553 val_loss:0.5633 acc:0.7412 macro_f1:0.7403 precision:0.7409 recall:0.7396 \n",
      "epoch:21 train_loss:0.2391 val_loss:0.5749 acc:0.7426 macro_f1:0.7417 precision:0.7424 recall:0.7409 \n",
      "epoch:22 train_loss:0.2245 val_loss:0.5901 acc:0.7468 macro_f1:0.7460 precision:0.7463 recall:0.7458 \n",
      "epoch:23 train_loss:0.2089 val_loss:0.6077 acc:0.7454 macro_f1:0.7450 precision:0.7449 recall:0.7452 \n",
      "epoch:24 train_loss:0.1965 val_loss:0.6244 acc:0.7454 macro_f1:0.7451 precision:0.7449 recall:0.7453 \n",
      "epoch:25 train_loss:0.1840 val_loss:0.6394 acc:0.7412 macro_f1:0.7405 precision:0.7406 recall:0.7403 \n",
      "==> seed set:\n",
      "[33926]\n",
      "\n",
      "test_loss:\n",
      "0.5518\n",
      "0.5518\n",
      "0.5518 \n",
      "acc:\n",
      "0.7555\n",
      "0.7555\n",
      "0.7555 \n",
      "macro_f1:\n",
      "0.7556\n",
      "0.7556\n",
      "0.7556 \n",
      "precision:\n",
      "0.7558\n",
      "0.7558\n",
      "0.7558 \n",
      "recall:\n",
      "0.7555\n",
      "0.7555\n",
      "0.7555 \n",
      "train_time:\n",
      "49.1737\n",
      "49.1737\n",
      "49.1737 \n",
      "model_param:\n",
      "5885802.0000\n",
      "5885802.0000\n",
      "5885802.0000 \n",
      "\n",
      "Wall time: 1min 30s\n"
     ]
    }
   ],
   "source": [
    "%%time\n",
    "%run trainer.py"
   ]
  },
  {
   "cell_type": "code",
   "execution_count": 9,
   "metadata": {},
   "outputs": [
    {
     "name": "stderr",
     "output_type": "stream",
     "text": [
      "clean the text: 10662it [00:00, 23332.69it/s]\n",
      "10662it [00:00, 19997.43it/s]"
     ]
    },
    {
     "name": "stdout",
     "output_type": "stream",
     "text": [
      "Average length: 20.38585631213656\n",
      "doc count: 10662\n",
      "Total number of words: 18764\n"
     ]
    },
    {
     "name": "stderr",
     "output_type": "stream",
     "text": [
      "\n"
     ]
    }
   ],
   "source": [
    "%run data_processor.py"
   ]
  },
  {
   "cell_type": "code",
   "execution_count": 1,
   "metadata": {
    "scrolled": true
   },
   "outputs": [
    {
     "name": "stdout",
     "output_type": "stream",
     "text": [
      "\n",
      "==> 现在的数据集是:mr<==\n"
     ]
    },
    {
     "name": "stderr",
     "output_type": "stream",
     "text": [
      "generate tfidf edge: 1032it [00:00, 10315.31it/s]"
     ]
    },
    {
     "name": "stdout",
     "output_type": "stream",
     "text": [
      "tfidf time: 0.2519819736480713\n",
      "tfidf_vec shape: (10662, 18764)\n",
      "tfidf_vec type: <class 'scipy.sparse.csr.csr_matrix'>\n",
      "vocab_lst len: 18764\n"
     ]
    },
    {
     "name": "stderr",
     "output_type": "stream",
     "text": [
      "generate tfidf edge: 10662it [00:01, 8840.82it/s]\n",
      "Split by window:   3%|██                                                         | 363/10662 [00:00<00:02, 3594.57it/s]"
     ]
    },
    {
     "name": "stdout",
     "output_type": "stream",
     "text": [
      "+---------+----------+-------------+------------+----------+\n",
      "|  Nodes  |  Edges   |  Selfloops  |  Isolates  |  覆盖度  |\n",
      "+---------+----------+-------------+------------+----------+\n",
      "|  29426  |  196826  |      0      |     0      |  1.0000  |\n",
      "+---------+----------+-------------+------------+----------+\n",
      "pmi read file len: 10662\n"
     ]
    },
    {
     "name": "stderr",
     "output_type": "stream",
     "text": [
      "Split by window: 100%|█████████████████████████████████████████████████████████| 10662/10662 [00:04<00:00, 2608.68it/s]\n",
      "Calculate pmi between words: 100%|███████████████████████████████████████| 1043618/1043618 [00:02<00:00, 520498.23it/s]\n"
     ]
    },
    {
     "name": "stdout",
     "output_type": "stream",
     "text": [
      "Total number of edges between word: 790158\n",
      "pmi time: 6.098142623901367\n",
      "+---------+----------+-------------+------------+----------+\n",
      "|  Nodes  |  Edges   |  Selfloops  |  Isolates  |  覆盖度  |\n",
      "+---------+----------+-------------+------------+----------+\n",
      "|  29426  |  918137  |      0      |     0      |  1.0000  |\n",
      "+---------+----------+-------------+------------+----------+\n",
      "total time: 6.3501245975494385\n",
      "\n",
      "\n"
     ]
    }
   ],
   "source": [
    "%run build_graph.py"
   ]
  },
  {
   "cell_type": "code",
   "execution_count": 5,
   "metadata": {},
   "outputs": [],
   "source": [
    "def b_c(G):\n",
    "    vertices = G.nodes()\n",
    "    new_bc = {}\n",
    "    paths = defaultdict(dict)\n",
    "\n",
    "    # Get shortest paths between all pairs of vertices\n",
    "    for i, vertex in enumerate(vertices[:-1]):\n",
    "        for o_vertex in vertices[i+1:]:\n",
    "            paths[vertex][o_vertex] = [path for path in\n",
    "                                       nx.all_shortest_paths(G, vertex, o_vertex)]\n",
    "\n",
    "    for vertex in vertices:\n",
    "        counter = 0\n",
    "        for i, vertex1 in enumerate(vertices[:-1]):\n",
    "            for vertex2 in vertices[i+1:]:\n",
    "                for path in paths[vertex1][vertex2]:\n",
    "                    if vertex in path[1:-1]:\n",
    "                        counter += 1\n",
    "        new_bc[vertex] = counter\n",
    "\n",
    "    return new_bc"
   ]
  },
  {
   "cell_type": "code",
   "execution_count": 21,
   "metadata": {},
   "outputs": [
    {
     "data": {
      "text/plain": [
       "(29426, {})"
      ]
     },
     "execution_count": 21,
     "metadata": {},
     "output_type": "execute_result"
    }
   ],
   "source": [
    "vertices = G.g.nodes()\n",
    "len(vertices), vertices\n",
    "# for i, vertex in enumerate(vertices[:-1]):\n",
    "#     print(i)"
   ]
  },
  {
   "cell_type": "code",
   "execution_count": 32,
   "metadata": {},
   "outputs": [
    {
     "data": {
      "text/plain": [
       "tensor(indices=tensor([[0, 1, 2],\n",
       "                       [0, 1, 2]]),\n",
       "       values=tensor([10., 20., 30.]),\n",
       "       size=(3, 3), nnz=3, layout=torch.sparse_coo)"
      ]
     },
     "execution_count": 32,
     "metadata": {},
     "output_type": "execute_result"
    }
   ],
   "source": [
    "import torch as th\n",
    "import numpy as np\n",
    "value = [10,20,30]#[1.] * 3\n",
    "shape = (3, 3)\n",
    "indices = th.from_numpy(\n",
    "        np.vstack((list(range(3)), list(range(3)))).astype(np.int64))\n",
    "values = th.FloatTensor(value)\n",
    "shape = th.Size(shape)\n",
    "features = th.sparse.FloatTensor(indices, values, shape)\n",
    "features"
   ]
  },
  {
   "cell_type": "code",
   "execution_count": null,
   "metadata": {},
   "outputs": [],
   "source": [
    "from networkx.algorithms.centrality import eigenvector_centrality\n",
    "ec = eigenvector_centrality(G.g)\n",
    "\n",
    "# موارد زیر جواب ندادن\n",
    "# closeness_centrality\n",
    "#betweenness_centrality\n",
    "# bc = betweenness_centrality(G.g, k =1000)\n",
    "\n",
    "# bc = b_c(G.g)"
   ]
  },
  {
   "cell_type": "code",
   "execution_count": 67,
   "metadata": {},
   "outputs": [
    {
     "data": {
      "text/plain": [
       "(1.4121735301786423e-72, 0.14859581062595026, 0.00373242862585294)"
      ]
     },
     "execution_count": 67,
     "metadata": {},
     "output_type": "execute_result"
    }
   ],
   "source": [
    "# len(ec), ec[1]\n",
    "# type(ec)\n",
    "# ec.value\n",
    "# Creates a sorted dictionary (sorted by key)\n",
    "from collections import OrderedDict\n",
    "\n",
    "# dict = {'ravi':'10','rajnish':'9','sanjeev':'15','yash':'2','suraj':'32'}\n",
    "dict1 = OrderedDict(sorted(ec.items()))\n",
    "# print(dict1)\n",
    "# ec_list = dict1.values()\n",
    "ec_list = [x for x in dict1.values()]\n",
    "# list(ec_list)\n",
    "np.min(ec_list), np.max(ec_list), np.mean(ec_list)"
   ]
  },
  {
   "cell_type": "code",
   "execution_count": 68,
   "metadata": {},
   "outputs": [
    {
     "data": {
      "text/plain": [
       "[0.003201180323761659,\n",
       " 0.00041326022033528353,\n",
       " 0.0018442263122221427,\n",
       " 0.0023540925747042147]"
      ]
     },
     "execution_count": 68,
     "metadata": {},
     "output_type": "execute_result"
    }
   ],
   "source": [
    "ec_list[:4]"
   ]
  },
  {
   "cell_type": "code",
   "execution_count": 25,
   "metadata": {},
   "outputs": [
    {
     "data": {
      "text/plain": [
       "AtlasView({27573: {'weight': 5.855600689586108}, 26169: {'weight': 5.855600689586108}, 25806: {'weight': 10.274441297382706}, 25548: {'weight': 8.888146936262816}, 23636: {'weight': 10.274441297382706}, 23559: {'weight': 10.274441297382706}, 22465: {'weight': 5.070434610305911}, 22149: {'weight': 1.8349934545913218}, 20475: {'weight': 3.7119972036889863}, 20428: {'weight': 10.274441297382706}, 19699: {'weight': 2.240134361043218}, 19590: {'weight': 4.2582841376843525}, 19538: {'weight': 6.304149383830585}, 19178: {'weight': 2.5195310253612764}, 18998: {'weight': 6.34261566465838}, 18685: {'weight': 3.9718223216378012}, 18493: {'weight': 4.654040431665557}, 18225: {'weight': 8.665003384948605}, 14635: {'weight': 9.175829008714597}, 13717: {'weight': 8.077216720046486}, 13170: {'weight': 8.48268182815465}, 12994: {'weight': 8.19499975570287}, 12008: {'weight': 3.1229558334779712}, 11720: {'weight': 1.7656835847875705}, 11141: {'weight': 5.029217154367105}, 10954: {'weight': 1.5465010749888104}, 10834: {'weight': 10.274441297382706}, 10663: {'weight': 5.297707554962132}})"
      ]
     },
     "execution_count": 25,
     "metadata": {},
     "output_type": "execute_result"
    }
   ],
   "source": [
    "# len(G.g.nodes())\n",
    "G.g[0]"
   ]
  },
  {
   "cell_type": "code",
   "execution_count": null,
   "metadata": {},
   "outputs": [],
   "source": [
    "pos = nx.nx_pydot.pydot_layout(G.g)\n",
    "plt.figure()    \n",
    "nx.draw(G.g,pos,edge_color='black',width=1,linewidths=1, node_size=10,node_color='blue',alpha=0.9)\n",
    "plt.axis('on')\n",
    "plt.show()"
   ]
  },
  {
   "cell_type": "code",
   "execution_count": null,
   "metadata": {},
   "outputs": [],
   "source": [
    "import networkx as nx \n",
    "import matplotlib.pyplot as plt \n",
    "\n",
    "fig = plt.figure(figsize=(40, 40)) \n",
    "# G = nx.fast_gnp_random_graph(300, 0.02, seed=1337) \n",
    "nx.draw(G.g, node_size=30) \n",
    "plt.axis('equal') \n",
    "plt.show() \n",
    "fig.savefig('waka.svg')"
   ]
  }
 ],
 "metadata": {
  "kernelspec": {
   "display_name": "Python 3",
   "language": "python",
   "name": "python3"
  },
  "language_info": {
   "codemirror_mode": {
    "name": "ipython",
    "version": 3
   },
   "file_extension": ".py",
   "mimetype": "text/x-python",
   "name": "python",
   "nbconvert_exporter": "python",
   "pygments_lexer": "ipython3",
   "version": "3.7.6"
  }
 },
 "nbformat": 4,
 "nbformat_minor": 4
}
