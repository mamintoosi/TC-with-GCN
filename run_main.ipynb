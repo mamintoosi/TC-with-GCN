{
 "cells": [
  {
   "cell_type": "code",
   "execution_count": 27,
   "metadata": {},
   "outputs": [
    {
     "name": "stderr",
     "output_type": "stream",
     "text": [
      "clean the text: 10662it [00:00, 30408.74it/s]\n",
      "10662it [00:00, 30213.62it/s]"
     ]
    },
    {
     "name": "stdout",
     "output_type": "stream",
     "text": [
      "Average length: 20.38585631213656\n",
      "doc count: 10662\n",
      "Total number of words: 18764\n"
     ]
    },
    {
     "name": "stderr",
     "output_type": "stream",
     "text": [
      "\n"
     ]
    }
   ],
   "source": [
    "%run data_processor.py"
   ]
  },
  {
   "cell_type": "code",
   "execution_count": 47,
   "metadata": {},
   "outputs": [
    {
     "name": "stdout",
     "output_type": "stream",
     "text": [
      "\n",
      "==> Dataset:mr<==\n"
     ]
    },
    {
     "name": "stderr",
     "output_type": "stream",
     "text": [
      "generate tfidf edge: 772it [00:00, 2819.84it/s]"
     ]
    },
    {
     "name": "stdout",
     "output_type": "stream",
     "text": [
      "tfidf time: 0.359452486038208\n",
      "tfidf_vec shape: (10662, 18764)\n",
      "tfidf_vec type: <class 'scipy.sparse.csr.csr_matrix'>\n",
      "vocab_lst len: 18764\n"
     ]
    },
    {
     "name": "stderr",
     "output_type": "stream",
     "text": [
      "generate tfidf edge: 10662it [00:02, 4540.88it/s]\n",
      "Split by window:   3%|█▋                                                         | 303/10662 [00:00<00:03, 2682.28it/s]"
     ]
    },
    {
     "name": "stdout",
     "output_type": "stream",
     "text": [
      "+---------+----------+-------------+------------+----------+\n",
      "|  Nodes  |  Edges   |  Selfloops  |  Isolates  |  覆盖度  |\n",
      "+---------+----------+-------------+------------+----------+\n",
      "|  29426  |  196826  |      0      |     0      |  1.0000  |\n",
      "+---------+----------+-------------+------------+----------+\n",
      "pmi read file len: 10662\n"
     ]
    },
    {
     "name": "stderr",
     "output_type": "stream",
     "text": [
      "Split by window: 100%|█████████████████████████████████████████████████████████| 10662/10662 [00:04<00:00, 2643.69it/s]\n",
      "Calculate pmi between words: 100%|███████████████████████████████████████| 1038228/1038228 [00:06<00:00, 161079.78it/s]\n"
     ]
    },
    {
     "name": "stdout",
     "output_type": "stream",
     "text": [
      "Total number of edges between word: 788864\n",
      "pmi time: 10.490823984146118\n",
      "+---------+----------+-------------+------------+----------+\n",
      "|  Nodes  |  Edges   |  Selfloops  |  Isolates  |  覆盖度  |\n",
      "+---------+----------+-------------+------------+----------+\n",
      "|  29426  |  918907  |      0      |     0      |  1.0000  |\n",
      "+---------+----------+-------------+------------+----------+\n",
      "total time: 10.850276470184326\n",
      "\n",
      "\n"
     ]
    }
   ],
   "source": [
    "%run build_graph.py"
   ]
  },
  {
   "cell_type": "code",
   "execution_count": 50,
   "metadata": {},
   "outputs": [
    {
     "name": "stdout",
     "output_type": "stream",
     "text": [
      "['a', 'b', 'c', 1, 2, 3]\n"
     ]
    }
   ],
   "source": [
    "list1 = [\"a\", \"b\" , \"c\"]\n",
    "list2 = [1, 2, 3]\n",
    "\n",
    "list3 = list1 + list2\n",
    "print(list3)"
   ]
  },
  {
   "cell_type": "code",
   "execution_count": 26,
   "metadata": {},
   "outputs": [
    {
     "data": {
      "text/plain": [
       "(10662, 2)"
      ]
     },
     "execution_count": 26,
     "metadata": {},
     "output_type": "execute_result"
    }
   ],
   "source": [
    "# target_fn = \"../tmp/TCGCN/graph/mr.txt\"\n",
    "target_fn = \"data/mr.txt\"\n",
    "target = np.array(pd.read_csv(target_fn,sep=\"\\t\", header=None, engine='python')[2])\n",
    "target2id = {label: indx for indx, label in enumerate(set(target))}\n",
    "target = [target2id[label] for label in target]\n",
    "nclass = len(target2id)\n",
    "len(target), nclass"
   ]
  },
  {
   "cell_type": "code",
   "execution_count": 54,
   "metadata": {},
   "outputs": [
    {
     "name": "stdout",
     "output_type": "stream",
     "text": [
      "Namespace(data_path='./data', dataset='mr', device=device(type='cpu'), dropout=0.2, early_stopping=10, graph_path='../tmp/TCGCN/graph', lr=0.02, max_epoch=50, nhid=200, tmp_path='../tmp/TCGCN', use_gf=False, val_ratio=0.1)\n",
      "prepare data\n",
      "+---------+----------+-------------+------------+----------+\n",
      "|  Nodes  |  Edges   |  Selfloops  |  Isolates  |  覆盖度  |\n",
      "+---------+----------+-------------+------------+----------+\n",
      "|  29426  |  918907  |      0      |     0      |  1.0000  |\n",
      "+---------+----------+-------------+------------+----------+\n",
      "\n",
      "\n",
      "==> 0, seed:7816\n",
      "<bound method Module.parameters of GCN(\n",
      "  (gc1): GraphConvolution (29426 -> 200)\n",
      "  (gc2): GraphConvolution (200 -> 2)\n",
      ")>\n",
      "# model parameters: 5885802\n",
      "epoch:0 train_loss:0.6951 val_loss:0.6880 acc:0.4979 macro_f1:0.3324 precision:0.2493 recall:0.4986 \n",
      "epoch:1 train_loss:0.6755 val_loss:0.6555 acc:0.7426 macro_f1:0.7523 precision:0.7621 recall:0.7428 \n",
      "epoch:2 train_loss:0.6303 val_loss:0.6463 acc:0.6498 macro_f1:0.6960 precision:0.7499 recall:0.6493 \n",
      "epoch:3 train_loss:0.6038 val_loss:0.6298 acc:0.6667 macro_f1:0.7077 precision:0.7547 recall:0.6663 \n",
      "epoch:4 train_loss:0.5679 val_loss:0.5998 acc:0.7412 macro_f1:0.7513 precision:0.7619 recall:0.7410 \n",
      "epoch:5 train_loss:0.5219 val_loss:0.5744 acc:0.7665 macro_f1:0.7669 precision:0.7672 recall:0.7666 \n",
      "epoch:6 train_loss:0.4817 val_loss:0.5571 acc:0.7665 macro_f1:0.7695 precision:0.7723 recall:0.7666 \n",
      "epoch:7 train_loss:0.4460 val_loss:0.5410 acc:0.7665 macro_f1:0.7667 precision:0.7669 recall:0.7666 \n",
      "epoch:8 train_loss:0.4067 val_loss:0.5340 acc:0.7693 macro_f1:0.7710 precision:0.7728 recall:0.7693 \n",
      "epoch:9 train_loss:0.3723 val_loss:0.5294 acc:0.7623 macro_f1:0.7646 precision:0.7670 recall:0.7622 \n",
      "epoch:10 train_loss:0.3414 val_loss:0.5203 acc:0.7722 macro_f1:0.7727 precision:0.7732 recall:0.7721 \n",
      "epoch:11 train_loss:0.3125 val_loss:0.5185 acc:0.7792 macro_f1:0.7792 precision:0.7793 recall:0.7792 \n",
      "epoch:12 train_loss:0.2889 val_loss:0.5237 acc:0.7764 macro_f1:0.7764 precision:0.7765 recall:0.7764 \n",
      "epoch:13 train_loss:0.2655 val_loss:0.5377 acc:0.7707 macro_f1:0.7720 precision:0.7734 recall:0.7707 \n",
      "epoch:14 train_loss:0.2454 val_loss:0.5506 acc:0.7722 macro_f1:0.7740 precision:0.7760 recall:0.7721 \n",
      "epoch:15 train_loss:0.2285 val_loss:0.5586 acc:0.7778 macro_f1:0.7780 precision:0.7783 recall:0.7777 \n",
      "epoch:16 train_loss:0.2109 val_loss:0.5716 acc:0.7778 macro_f1:0.7778 precision:0.7779 recall:0.7778 \n",
      "epoch:17 train_loss:0.1966 val_loss:0.5907 acc:0.7778 macro_f1:0.7780 precision:0.7783 recall:0.7777 \n",
      "epoch:18 train_loss:0.1822 val_loss:0.6150 acc:0.7778 macro_f1:0.7784 precision:0.7791 recall:0.7777 \n",
      "epoch:19 train_loss:0.1695 val_loss:0.6389 acc:0.7764 macro_f1:0.7773 precision:0.7782 recall:0.7763 \n",
      "epoch:20 train_loss:0.1573 val_loss:0.6566 acc:0.7764 macro_f1:0.7768 precision:0.7773 recall:0.7763 \n",
      "epoch:21 train_loss:0.1462 val_loss:0.6776 acc:0.7707 macro_f1:0.7709 precision:0.7711 recall:0.7707 \n",
      "==> seed set:\n",
      "[7816]\n",
      "\n",
      "test_loss:\n",
      "0.6407\n",
      "0.6407\n",
      "0.6407 \n",
      "acc:\n",
      "0.7577\n",
      "0.7577\n",
      "0.7577 \n",
      "macro_f1:\n",
      "0.7578\n",
      "0.7578\n",
      "0.7578 \n",
      "precision:\n",
      "0.7578\n",
      "0.7578\n",
      "0.7578 \n",
      "recall:\n",
      "0.7577\n",
      "0.7577\n",
      "0.7577 \n",
      "train_time:\n",
      "31.1579\n",
      "31.1579\n",
      "31.1579 \n",
      "model_param:\n",
      "5885802.0000\n",
      "5885802.0000\n",
      "5885802.0000 \n",
      "\n",
      "Wall time: 47.3 s\n"
     ]
    }
   ],
   "source": [
    "%%time\n",
    "%run trainer.py"
   ]
  },
  {
   "cell_type": "code",
   "execution_count": null,
   "metadata": {},
   "outputs": [
    {
     "name": "stdout",
     "output_type": "stream",
     "text": [
      "Namespace(data_path='./data', dataset='mr', device=device(type='cpu'), dropout=0.2, early_stopping=10, graph_path='../tmp/TCGCN/graph', lr=0.02, max_epoch=50, nhid=200, tmp_path='../tmp/TCGCN', use_gf=True, val_ratio=0.1)\n",
      "prepare data\n",
      "+---------+----------+-------------+------------+----------+\n",
      "|  Nodes  |  Edges   |  Selfloops  |  Isolates  |  覆盖度  |\n",
      "+---------+----------+-------------+------------+----------+\n",
      "|  29426  |  918907  |      0      |     0      |  1.0000  |\n",
      "+---------+----------+-------------+------------+----------+\n",
      "Is subgraph connected:  False\n",
      "+---------+----------+-------------+------------+----------+\n",
      "|  Nodes  |  Edges   |  Selfloops  |  Isolates  |  覆盖度  |\n",
      "+---------+----------+-------------+------------+----------+\n",
      "|  18764  |  722081  |      0      |     2      |  0.9999  |\n",
      "+---------+----------+-------------+------------+----------+\n",
      "[0.22611973207487113, 0.3612321134317132, 0.26513446900558246, 1.05749665095772, 0.2527274751137994, 0.25428243494245906, 0.20502536552951256, 0.23210603255028917, 0.34988111962478835, 0.14628053031169466]\n",
      "\n",
      "\n",
      "==> 0, seed:73669\n",
      "<bound method Module.parameters of GCN(\n",
      "  (gc1): GraphConvolution (29426 -> 200)\n",
      "  (gc2): GraphConvolution (200 -> 2)\n",
      ")>\n",
      "# model parameters: 5885802\n",
      "epoch:0 train_loss:0.6969 val_loss:0.7005 acc:0.5021 macro_f1:0.3343 precision:0.2511 recall:0.5000 \n",
      "epoch:1 train_loss:0.6936 val_loss:0.6651 acc:0.6779 macro_f1:0.7178 precision:0.7641 recall:0.6767 \n",
      "epoch:2 train_loss:0.6486 val_loss:0.6584 acc:0.5767 macro_f1:0.6464 precision:0.7327 recall:0.5784 \n",
      "epoch:3 train_loss:0.6314 val_loss:0.6510 acc:0.5710 macro_f1:0.6468 precision:0.7429 recall:0.5728 \n",
      "epoch:4 train_loss:0.6133 val_loss:0.6286 acc:0.7131 macro_f1:0.7412 precision:0.7706 recall:0.7140 \n"
     ]
    }
   ],
   "source": [
    "%%time\n",
    "%run trainer.py"
   ]
  },
  {
   "cell_type": "code",
   "execution_count": 46,
   "metadata": {},
   "outputs": [
    {
     "data": {
      "text/plain": [
       "10662"
      ]
     },
     "execution_count": 46,
     "metadata": {},
     "output_type": "execute_result"
    }
   ],
   "source": [
    "G.node_num\n",
    "# subgraph = G.g.subgraph(np.arange(5))\n",
    "# subgraph.nodes()\n"
   ]
  },
  {
   "cell_type": "code",
   "execution_count": 9,
   "metadata": {},
   "outputs": [
    {
     "name": "stderr",
     "output_type": "stream",
     "text": [
      "clean the text: 10662it [00:00, 23332.69it/s]\n",
      "10662it [00:00, 19997.43it/s]"
     ]
    },
    {
     "name": "stdout",
     "output_type": "stream",
     "text": [
      "Average length: 20.38585631213656\n",
      "doc count: 10662\n",
      "Total number of words: 18764\n"
     ]
    },
    {
     "name": "stderr",
     "output_type": "stream",
     "text": [
      "\n"
     ]
    }
   ],
   "source": [
    "%run data_processor.py"
   ]
  },
  {
   "cell_type": "code",
   "execution_count": 1,
   "metadata": {
    "scrolled": true
   },
   "outputs": [
    {
     "name": "stdout",
     "output_type": "stream",
     "text": [
      "\n",
      "==> 现在的数据集是:mr<==\n"
     ]
    },
    {
     "name": "stderr",
     "output_type": "stream",
     "text": [
      "generate tfidf edge: 1032it [00:00, 10315.31it/s]"
     ]
    },
    {
     "name": "stdout",
     "output_type": "stream",
     "text": [
      "tfidf time: 0.2519819736480713\n",
      "tfidf_vec shape: (10662, 18764)\n",
      "tfidf_vec type: <class 'scipy.sparse.csr.csr_matrix'>\n",
      "vocab_lst len: 18764\n"
     ]
    },
    {
     "name": "stderr",
     "output_type": "stream",
     "text": [
      "generate tfidf edge: 10662it [00:01, 8840.82it/s]\n",
      "Split by window:   3%|██                                                         | 363/10662 [00:00<00:02, 3594.57it/s]"
     ]
    },
    {
     "name": "stdout",
     "output_type": "stream",
     "text": [
      "+---------+----------+-------------+------------+----------+\n",
      "|  Nodes  |  Edges   |  Selfloops  |  Isolates  |  覆盖度  |\n",
      "+---------+----------+-------------+------------+----------+\n",
      "|  29426  |  196826  |      0      |     0      |  1.0000  |\n",
      "+---------+----------+-------------+------------+----------+\n",
      "pmi read file len: 10662\n"
     ]
    },
    {
     "name": "stderr",
     "output_type": "stream",
     "text": [
      "Split by window: 100%|█████████████████████████████████████████████████████████| 10662/10662 [00:04<00:00, 2608.68it/s]\n",
      "Calculate pmi between words: 100%|███████████████████████████████████████| 1043618/1043618 [00:02<00:00, 520498.23it/s]\n"
     ]
    },
    {
     "name": "stdout",
     "output_type": "stream",
     "text": [
      "Total number of edges between word: 790158\n",
      "pmi time: 6.098142623901367\n",
      "+---------+----------+-------------+------------+----------+\n",
      "|  Nodes  |  Edges   |  Selfloops  |  Isolates  |  覆盖度  |\n",
      "+---------+----------+-------------+------------+----------+\n",
      "|  29426  |  918137  |      0      |     0      |  1.0000  |\n",
      "+---------+----------+-------------+------------+----------+\n",
      "total time: 6.3501245975494385\n",
      "\n",
      "\n"
     ]
    }
   ],
   "source": [
    "%run build_graph.py"
   ]
  },
  {
   "cell_type": "code",
   "execution_count": 5,
   "metadata": {},
   "outputs": [],
   "source": [
    "def b_c(G):\n",
    "    vertices = G.nodes()\n",
    "    new_bc = {}\n",
    "    paths = defaultdict(dict)\n",
    "\n",
    "    # Get shortest paths between all pairs of vertices\n",
    "    for i, vertex in enumerate(vertices[:-1]):\n",
    "        for o_vertex in vertices[i+1:]:\n",
    "            paths[vertex][o_vertex] = [path for path in\n",
    "                                       nx.all_shortest_paths(G, vertex, o_vertex)]\n",
    "\n",
    "    for vertex in vertices:\n",
    "        counter = 0\n",
    "        for i, vertex1 in enumerate(vertices[:-1]):\n",
    "            for vertex2 in vertices[i+1:]:\n",
    "                for path in paths[vertex1][vertex2]:\n",
    "                    if vertex in path[1:-1]:\n",
    "                        counter += 1\n",
    "        new_bc[vertex] = counter\n",
    "\n",
    "    return new_bc"
   ]
  },
  {
   "cell_type": "code",
   "execution_count": 21,
   "metadata": {},
   "outputs": [
    {
     "data": {
      "text/plain": [
       "(29426, {})"
      ]
     },
     "execution_count": 21,
     "metadata": {},
     "output_type": "execute_result"
    }
   ],
   "source": [
    "vertices = G.g.nodes()\n",
    "len(vertices), vertices\n",
    "# for i, vertex in enumerate(vertices[:-1]):\n",
    "#     print(i)"
   ]
  },
  {
   "cell_type": "code",
   "execution_count": 32,
   "metadata": {},
   "outputs": [
    {
     "data": {
      "text/plain": [
       "tensor(indices=tensor([[0, 1, 2],\n",
       "                       [0, 1, 2]]),\n",
       "       values=tensor([10., 20., 30.]),\n",
       "       size=(3, 3), nnz=3, layout=torch.sparse_coo)"
      ]
     },
     "execution_count": 32,
     "metadata": {},
     "output_type": "execute_result"
    }
   ],
   "source": [
    "import torch as th\n",
    "import numpy as np\n",
    "value = [10,20,30]#[1.] * 3\n",
    "shape = (3, 3)\n",
    "indices = th.from_numpy(\n",
    "        np.vstack((list(range(3)), list(range(3)))).astype(np.int64))\n",
    "values = th.FloatTensor(value)\n",
    "shape = th.Size(shape)\n",
    "features = th.sparse.FloatTensor(indices, values, shape)\n",
    "features"
   ]
  },
  {
   "cell_type": "code",
   "execution_count": null,
   "metadata": {},
   "outputs": [],
   "source": [
    "from networkx.algorithms.centrality import eigenvector_centrality\n",
    "ec = eigenvector_centrality(G.g)\n",
    "\n",
    "# موارد زیر جواب ندادن\n",
    "# closeness_centrality\n",
    "#betweenness_centrality\n",
    "# bc = betweenness_centrality(G.g, k =1000)\n",
    "\n",
    "# bc = b_c(G.g)"
   ]
  },
  {
   "cell_type": "code",
   "execution_count": 67,
   "metadata": {},
   "outputs": [
    {
     "data": {
      "text/plain": [
       "(1.4121735301786423e-72, 0.14859581062595026, 0.00373242862585294)"
      ]
     },
     "execution_count": 67,
     "metadata": {},
     "output_type": "execute_result"
    }
   ],
   "source": [
    "# len(ec), ec[1]\n",
    "# type(ec)\n",
    "# ec.value\n",
    "# Creates a sorted dictionary (sorted by key)\n",
    "from collections import OrderedDict\n",
    "\n",
    "# dict = {'ravi':'10','rajnish':'9','sanjeev':'15','yash':'2','suraj':'32'}\n",
    "dict1 = OrderedDict(sorted(ec.items()))\n",
    "# print(dict1)\n",
    "# ec_list = dict1.values()\n",
    "ec_list = [x for x in dict1.values()]\n",
    "# list(ec_list)\n",
    "np.min(ec_list), np.max(ec_list), np.mean(ec_list)"
   ]
  },
  {
   "cell_type": "code",
   "execution_count": 68,
   "metadata": {},
   "outputs": [
    {
     "data": {
      "text/plain": [
       "[0.003201180323761659,\n",
       " 0.00041326022033528353,\n",
       " 0.0018442263122221427,\n",
       " 0.0023540925747042147]"
      ]
     },
     "execution_count": 68,
     "metadata": {},
     "output_type": "execute_result"
    }
   ],
   "source": [
    "ec_list[:4]"
   ]
  },
  {
   "cell_type": "code",
   "execution_count": 25,
   "metadata": {},
   "outputs": [
    {
     "data": {
      "text/plain": [
       "AtlasView({27573: {'weight': 5.855600689586108}, 26169: {'weight': 5.855600689586108}, 25806: {'weight': 10.274441297382706}, 25548: {'weight': 8.888146936262816}, 23636: {'weight': 10.274441297382706}, 23559: {'weight': 10.274441297382706}, 22465: {'weight': 5.070434610305911}, 22149: {'weight': 1.8349934545913218}, 20475: {'weight': 3.7119972036889863}, 20428: {'weight': 10.274441297382706}, 19699: {'weight': 2.240134361043218}, 19590: {'weight': 4.2582841376843525}, 19538: {'weight': 6.304149383830585}, 19178: {'weight': 2.5195310253612764}, 18998: {'weight': 6.34261566465838}, 18685: {'weight': 3.9718223216378012}, 18493: {'weight': 4.654040431665557}, 18225: {'weight': 8.665003384948605}, 14635: {'weight': 9.175829008714597}, 13717: {'weight': 8.077216720046486}, 13170: {'weight': 8.48268182815465}, 12994: {'weight': 8.19499975570287}, 12008: {'weight': 3.1229558334779712}, 11720: {'weight': 1.7656835847875705}, 11141: {'weight': 5.029217154367105}, 10954: {'weight': 1.5465010749888104}, 10834: {'weight': 10.274441297382706}, 10663: {'weight': 5.297707554962132}})"
      ]
     },
     "execution_count": 25,
     "metadata": {},
     "output_type": "execute_result"
    }
   ],
   "source": [
    "# len(G.g.nodes())\n",
    "G.g[0]"
   ]
  },
  {
   "cell_type": "code",
   "execution_count": null,
   "metadata": {},
   "outputs": [],
   "source": [
    "pos = nx.nx_pydot.pydot_layout(G.g)\n",
    "plt.figure()    \n",
    "nx.draw(G.g,pos,edge_color='black',width=1,linewidths=1, node_size=10,node_color='blue',alpha=0.9)\n",
    "plt.axis('on')\n",
    "plt.show()"
   ]
  },
  {
   "cell_type": "code",
   "execution_count": null,
   "metadata": {},
   "outputs": [],
   "source": [
    "import networkx as nx \n",
    "import matplotlib.pyplot as plt \n",
    "\n",
    "fig = plt.figure(figsize=(40, 40)) \n",
    "# G = nx.fast_gnp_random_graph(300, 0.02, seed=1337) \n",
    "nx.draw(G.g, node_size=30) \n",
    "plt.axis('equal') \n",
    "plt.show() \n",
    "fig.savefig('waka.svg')"
   ]
  }
 ],
 "metadata": {
  "kernelspec": {
   "display_name": "Python 3",
   "language": "python",
   "name": "python3"
  },
  "language_info": {
   "codemirror_mode": {
    "name": "ipython",
    "version": 3
   },
   "file_extension": ".py",
   "mimetype": "text/x-python",
   "name": "python",
   "nbconvert_exporter": "python",
   "pygments_lexer": "ipython3",
   "version": "3.7.6"
  }
 },
 "nbformat": 4,
 "nbformat_minor": 4
}
