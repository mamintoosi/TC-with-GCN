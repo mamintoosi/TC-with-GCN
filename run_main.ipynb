{
 "cells": [
  {
   "cell_type": "code",
   "execution_count": 71,
   "metadata": {},
   "outputs": [
    {
     "name": "stderr",
     "output_type": "stream",
     "text": [
      "clean the text: 3108it [00:00, 30984.29it/s]"
     ]
    },
    {
     "name": "stdout",
     "output_type": "stream",
     "text": [
      "mr\n"
     ]
    },
    {
     "name": "stderr",
     "output_type": "stream",
     "text": [
      "clean the text: 10662it [00:00, 29505.14it/s]\n",
      "10662it [00:00, 26543.20it/s]\n",
      "clean the text: 384it [00:00, 3838.34it/s]"
     ]
    },
    {
     "name": "stdout",
     "output_type": "stream",
     "text": [
      "Average length: 20.38585631213656\n",
      "doc count: 10662\n",
      "Total number of words: 18764\n",
      "ohsumed\n"
     ]
    },
    {
     "name": "stderr",
     "output_type": "stream",
     "text": [
      "clean the text: 7400it [00:01, 4135.52it/s]\n",
      "7400it [00:02, 3458.18it/s]\n",
      "clean the text: 1384it [00:00, 6566.94it/s]"
     ]
    },
    {
     "name": "stdout",
     "output_type": "stream",
     "text": [
      "Average length: 135.8177027027027\n",
      "doc count: 7400\n",
      "Total number of words: 14157\n",
      "R52\n"
     ]
    },
    {
     "name": "stderr",
     "output_type": "stream",
     "text": [
      "clean the text: 9100it [00:01, 8139.41it/s]\n",
      "9100it [00:01, 6400.41it/s]\n",
      "clean the text: 968it [00:00, 9676.85it/s]"
     ]
    },
    {
     "name": "stdout",
     "output_type": "stream",
     "text": [
      "Average length: 69.81989010989011\n",
      "doc count: 9100\n",
      "Total number of words: 8892\n",
      "R8\n"
     ]
    },
    {
     "name": "stderr",
     "output_type": "stream",
     "text": [
      "clean the text: 7674it [00:00, 9345.78it/s]\n",
      "7674it [00:01, 6018.99it/s]"
     ]
    },
    {
     "name": "stdout",
     "output_type": "stream",
     "text": [
      "Average length: 65.72126661454261\n",
      "doc count: 7674\n",
      "Total number of words: 7688\n"
     ]
    },
    {
     "name": "stderr",
     "output_type": "stream",
     "text": [
      "\n"
     ]
    }
   ],
   "source": [
    "%run data_processor.py"
   ]
  },
  {
   "cell_type": "code",
   "execution_count": 72,
   "metadata": {},
   "outputs": [
    {
     "name": "stdout",
     "output_type": "stream",
     "text": [
      "\n",
      "==> Dataset:mr<==\n"
     ]
    },
    {
     "name": "stderr",
     "output_type": "stream",
     "text": [
      "generate tfidf edge: 1993it [00:00, 10089.06it/s]"
     ]
    },
    {
     "name": "stdout",
     "output_type": "stream",
     "text": [
      "tfidf time: 0.362199068069458\n",
      "tfidf_vec shape: (10662, 18764)\n",
      "tfidf_vec type: <class 'scipy.sparse.csr.csr_matrix'>\n",
      "vocab_lst len: 18764\n"
     ]
    },
    {
     "name": "stderr",
     "output_type": "stream",
     "text": [
      "generate tfidf edge: 10662it [00:01, 9648.84it/s]\n",
      "Split by window:   6%|███▍                                                       | 628/10662 [00:00<00:03, 3241.27it/s]"
     ]
    },
    {
     "name": "stdout",
     "output_type": "stream",
     "text": [
      "+---------+----------+-------------+------------+----------+\n",
      "|  Nodes  |  Edges   |  Selfloops  |  Isolates  |  覆盖度  |\n",
      "+---------+----------+-------------+------------+----------+\n",
      "|  29426  |  196826  |      0      |     0      |  1.0000  |\n",
      "+---------+----------+-------------+------------+----------+\n",
      "pmi read file len: 10662\n"
     ]
    },
    {
     "name": "stderr",
     "output_type": "stream",
     "text": [
      "Split by window: 100%|█████████████████████████████████████████████████████████| 10662/10662 [00:03<00:00, 2918.78it/s]\n",
      "Calculate pmi between words: 100%|███████████████████████████████████████| 1038228/1038228 [00:06<00:00, 165849.10it/s]\n"
     ]
    },
    {
     "name": "stdout",
     "output_type": "stream",
     "text": [
      "Total number of edges between word: 788864\n",
      "pmi time: 9.920923709869385\n",
      "+---------+----------+-------------+------------+----------+\n",
      "|  Nodes  |  Edges   |  Selfloops  |  Isolates  |  覆盖度  |\n",
      "+---------+----------+-------------+------------+----------+\n",
      "|  29426  |  918907  |      0      |     0      |  1.0000  |\n",
      "+---------+----------+-------------+------------+----------+\n",
      "total time: 10.283122777938843\n",
      "\n",
      "\n",
      "\n",
      "==> Dataset:ohsumed<==\n"
     ]
    },
    {
     "name": "stderr",
     "output_type": "stream",
     "text": [
      "generate tfidf edge: 749it [00:00, 3868.83it/s]"
     ]
    },
    {
     "name": "stdout",
     "output_type": "stream",
     "text": [
      "tfidf time: 0.9102797508239746\n",
      "tfidf_vec shape: (7400, 14157)\n",
      "tfidf_vec type: <class 'scipy.sparse.csr.csr_matrix'>\n",
      "vocab_lst len: 14157\n"
     ]
    },
    {
     "name": "stderr",
     "output_type": "stream",
     "text": [
      "generate tfidf edge: 7400it [00:02, 3084.63it/s]\n",
      "Split by window:   0%|▏                                                             | 20/7400 [00:00<00:37, 195.99it/s]"
     ]
    },
    {
     "name": "stdout",
     "output_type": "stream",
     "text": [
      "+---------+----------+-------------+------------+----------+\n",
      "|  Nodes  |  Edges   |  Selfloops  |  Isolates  |  覆盖度  |\n",
      "+---------+----------+-------------+------------+----------+\n",
      "|  21557  |  588958  |      0      |     0      |  1.0000  |\n",
      "+---------+----------+-------------+------------+----------+\n",
      "pmi read file len: 7400\n"
     ]
    },
    {
     "name": "stderr",
     "output_type": "stream",
     "text": [
      "Calculate pmi between words: 100%|████████████████████████████████████████| 5720742/5720742 [01:10<00:00, 80787.55it/s]\n"
     ]
    },
    {
     "name": "stdout",
     "output_type": "stream",
     "text": [
      "Total number of edges between word: 3854856\n",
      "pmi time: 214.2639675140381\n",
      "+---------+-----------+-------------+------------+----------+\n",
      "|  Nodes  |   Edges   |  Selfloops  |  Isolates  |  覆盖度  |\n",
      "+---------+-----------+-------------+------------+----------+\n",
      "|  21557  |  3823143  |      0      |     0      |  1.0000  |\n",
      "+---------+-----------+-------------+------------+----------+\n",
      "total time: 215.17424726486206\n",
      "\n",
      "\n",
      "\n",
      "==> Dataset:R52<==\n"
     ]
    },
    {
     "name": "stderr",
     "output_type": "stream",
     "text": [
      "generate tfidf edge: 286it [00:00, 2859.82it/s]"
     ]
    },
    {
     "name": "stdout",
     "output_type": "stream",
     "text": [
      "tfidf time: 2.658061981201172\n",
      "tfidf_vec shape: (9100, 8892)\n",
      "tfidf_vec type: <class 'scipy.sparse.csr.csr_matrix'>\n",
      "vocab_lst len: 8892\n"
     ]
    },
    {
     "name": "stderr",
     "output_type": "stream",
     "text": [
      "generate tfidf edge: 9100it [00:02, 3191.86it/s]\n",
      "Split by window:   0%|▏                                                             | 29/9100 [00:00<00:31, 287.13it/s]"
     ]
    },
    {
     "name": "stdout",
     "output_type": "stream",
     "text": [
      "+---------+----------+-------------+------------+----------+\n",
      "|  Nodes  |  Edges   |  Selfloops  |  Isolates  |  覆盖度  |\n",
      "+---------+----------+-------------+------------+----------+\n",
      "|  17992  |  407084  |      0      |     0      |  1.0000  |\n",
      "+---------+----------+-------------+------------+----------+\n",
      "pmi read file len: 9100\n"
     ]
    },
    {
     "name": "stderr",
     "output_type": "stream",
     "text": [
      "Split by window: 100%|████████████████████████████████████████████████████████████| 9100/9100 [01:11<00:00, 126.86it/s]\n",
      "Calculate pmi between words: 100%|███████████████████████████████████████| 2949013/2949013 [00:26<00:00, 112667.52it/s]\n"
     ]
    },
    {
     "name": "stdout",
     "output_type": "stream",
     "text": [
      "Total number of edges between word: 1976823\n",
      "pmi time: 97.92879247665405\n",
      "+---------+-----------+-------------+------------+----------+\n",
      "|  Nodes  |   Edges   |  Selfloops  |  Isolates  |  覆盖度  |\n",
      "+---------+-----------+-------------+------------+----------+\n",
      "|  17992  |  2102101  |      0      |     0      |  1.0000  |\n",
      "+---------+-----------+-------------+------------+----------+\n",
      "total time: 100.58685445785522\n",
      "\n",
      "\n",
      "\n",
      "==> Dataset:R8<==\n"
     ]
    },
    {
     "name": "stderr",
     "output_type": "stream",
     "text": [
      "\r",
      "generate tfidf edge: 0it [00:00, ?it/s]"
     ]
    },
    {
     "name": "stdout",
     "output_type": "stream",
     "text": [
      "tfidf time: 1.0448355674743652\n",
      "tfidf_vec shape: (7674, 7688)\n",
      "tfidf_vec type: <class 'scipy.sparse.csr.csr_matrix'>\n",
      "vocab_lst len: 7688\n"
     ]
    },
    {
     "name": "stderr",
     "output_type": "stream",
     "text": [
      "generate tfidf edge: 7674it [00:02, 3349.63it/s]\n",
      "Split by window:   0%|                                                                        | 0/7674 [00:00<?, ?it/s]"
     ]
    },
    {
     "name": "stdout",
     "output_type": "stream",
     "text": [
      "+---------+----------+-------------+------------+----------+\n",
      "|  Nodes  |  Edges   |  Selfloops  |  Isolates  |  覆盖度  |\n",
      "+---------+----------+-------------+------------+----------+\n",
      "|  15362  |  323670  |      0      |     0      |  1.0000  |\n",
      "+---------+----------+-------------+------------+----------+\n",
      "pmi read file len: 7674\n"
     ]
    },
    {
     "name": "stderr",
     "output_type": "stream",
     "text": [
      "Split by window: 100%|████████████████████████████████████████████████████████████| 7674/7674 [00:47<00:00, 162.75it/s]\n",
      "Calculate pmi between words: 100%|████████████████████████████████████████| 2329566/2329566 [00:29<00:00, 79869.64it/s]\n"
     ]
    },
    {
     "name": "stdout",
     "output_type": "stream",
     "text": [
      "Total number of edges between word: 1578214\n",
      "pmi time: 76.35704135894775\n",
      "+---------+-----------+-------------+------------+----------+\n",
      "|  Nodes  |   Edges   |  Selfloops  |  Isolates  |  覆盖度  |\n",
      "+---------+-----------+-------------+------------+----------+\n",
      "|  15362  |  1673322  |      0      |     0      |  1.0000  |\n",
      "+---------+-----------+-------------+------------+----------+\n",
      "total time: 77.40187692642212\n",
      "\n",
      "\n"
     ]
    }
   ],
   "source": [
    "%run build_graph.py"
   ]
  },
  {
   "cell_type": "code",
   "execution_count": 2,
   "metadata": {},
   "outputs": [
    {
     "name": "stdout",
     "output_type": "stream",
     "text": [
      "\n",
      " mr\n",
      "Namespace(data_path='./data', dataset='mr', device=device(type='cpu'), dropout=0.2, early_stopping=10, graph_path='../tmp/TCGCN/graph', lr=0.02, max_epoch=50, nhid=200, tmp_path='../tmp/TCGCN', use_gf=False, val_ratio=0.1)\n",
      "prepare data\n",
      "Macro F1: [0.7569068214262832, 0.7594858468729092]\n",
      "Namespace(data_path='./data', dataset='mr', device=device(type='cpu'), dropout=0.2, early_stopping=10, graph_path='../tmp/TCGCN/graph', lr=0.02, max_epoch=50, nhid=200, tmp_path='../tmp/TCGCN', use_gf=True, val_ratio=0.1)\n",
      "prepare data\n",
      "Is subgraph connected:  False\n",
      "EC:  [1.2261197320748711, 1.3612321134317131, 1.2651344690055826, 2.05749665095772, 1.2527274751137993, 1.254282434942459, 1.2050253655295124, 1.232106032550289, 1.3498811196247884, 1.1462805303116947]\n",
      "Macro F1: [0.758605467046751, 0.7592556589001643]\n",
      "\n",
      " ohsumed\n",
      "Namespace(data_path='./data', dataset='ohsumed', device=device(type='cpu'), dropout=0.2, early_stopping=10, graph_path='../tmp/TCGCN/graph', lr=0.02, max_epoch=50, nhid=200, tmp_path='../tmp/TCGCN', use_gf=False, val_ratio=0.1)\n",
      "prepare data\n",
      "Macro F1: [0.47170115463821094, 0.45296789392700787]\n",
      "Namespace(data_path='./data', dataset='ohsumed', device=device(type='cpu'), dropout=0.2, early_stopping=10, graph_path='../tmp/TCGCN/graph', lr=0.02, max_epoch=50, nhid=200, tmp_path='../tmp/TCGCN', use_gf=True, val_ratio=0.1)\n",
      "prepare data\n",
      "Is subgraph connected:  True\n",
      "EC:  [1.5345338621815867, 1.3631477616420242, 1.2018496521052857, 1.2485113126347747, 1.221710695492888, 2.347956515856583, 1.7345688409624676, 1.262141544063676, 1.2618157087800732, 1.3767121925996915]\n",
      "Macro F1: [0.5531561123585945, 0.4850938329677021]\n",
      "Wall time: 28min 2s\n"
     ]
    }
   ],
   "source": [
    "%%time\n",
    "# Vanilla\n",
    "%run trainer.py"
   ]
  },
  {
   "cell_type": "code",
   "execution_count": 68,
   "metadata": {},
   "outputs": [
    {
     "name": "stdout",
     "output_type": "stream",
     "text": [
      "Namespace(data_path='./data', dataset='R8', device=device(type='cpu'), dropout=0.2, early_stopping=10, graph_path='../tmp/TCGCN/graph', lr=0.02, max_epoch=50, nhid=200, tmp_path='../tmp/TCGCN', use_gf=True, val_ratio=0.1)\n",
      "prepare data\n",
      "+---------+-----------+-------------+------------+----------+\n",
      "|  Nodes  |   Edges   |  Selfloops  |  Isolates  |  覆盖度  |\n",
      "+---------+-----------+-------------+------------+----------+\n",
      "|  15362  |  1673322  |      0      |     0      |  1.0000  |\n",
      "+---------+-----------+-------------+------------+----------+\n",
      "Is subgraph connected:  True\n",
      "+---------+-----------+-------------+------------+----------+\n",
      "|  Nodes  |   Edges   |  Selfloops  |  Isolates  |  覆盖度  |\n",
      "+---------+-----------+-------------+------------+----------+\n",
      "|   7688  |  1349652  |      0      |     0      |  1.0000  |\n",
      "+---------+-----------+-------------+------------+----------+\n",
      "[0.20979919205544756, 0.26159571491160943, 0.26363128309917433, 0.4427468067106428, 0.30478138343953814, 0.4258723130404813, 0.23474107067228445, 0.9373296439142378, 0.5409431268831396, 0.4992369484423848]\n",
      "\n",
      "\n",
      "==> 0, seed:35707\n",
      "<bound method Module.parameters of GCN(\n",
      "  (gc1): GraphConvolution (15362 -> 200)\n",
      "  (gc2): GraphConvolution (200 -> 8)\n",
      ")>\n",
      "# model parameters: 3074208\n",
      "\n",
      "\n",
      "==> 1, seed:53509\n",
      "<bound method Module.parameters of GCN(\n",
      "  (gc1): GraphConvolution (15362 -> 200)\n",
      "  (gc2): GraphConvolution (200 -> 8)\n",
      ")>\n",
      "# model parameters: 3074208\n",
      "\n",
      "\n",
      "==> 2, seed:16195\n",
      "<bound method Module.parameters of GCN(\n",
      "  (gc1): GraphConvolution (15362 -> 200)\n",
      "  (gc2): GraphConvolution (200 -> 8)\n",
      ")>\n",
      "# model parameters: 3074208\n",
      "\n",
      "\n",
      "==> 3, seed:70644\n",
      "<bound method Module.parameters of GCN(\n",
      "  (gc1): GraphConvolution (15362 -> 200)\n",
      "  (gc2): GraphConvolution (200 -> 8)\n",
      ")>\n",
      "# model parameters: 3074208\n",
      "\n",
      "\n",
      "==> 4, seed:90025\n",
      "<bound method Module.parameters of GCN(\n",
      "  (gc1): GraphConvolution (15362 -> 200)\n",
      "  (gc2): GraphConvolution (200 -> 8)\n",
      ")>\n",
      "# model parameters: 3074208\n",
      "==> seed set:\n",
      "[35707, 53509, 16195, 70644, 90025]\n",
      "\n",
      "test_loss:\n",
      "0.1587\n",
      "0.1668\n",
      "0.1504 \n",
      "acc:\n",
      "0.9614\n",
      "0.9657\n",
      "0.9580 \n",
      "macro_f1:\n",
      "0.8585\n",
      "0.8783\n",
      "0.8395 \n",
      "precision:\n",
      "0.9237\n",
      "0.9347\n",
      "0.9175 \n",
      "recall:\n",
      "0.8022\n",
      "0.8282\n",
      "0.7736 \n",
      "train_time:\n",
      "101.5461\n",
      "116.3954\n",
      "88.9367 \n",
      "model_param:\n",
      "3074208.0000\n",
      "3074208.0000\n",
      "3074208.0000 \n",
      "\n",
      "Wall time: 9min 53s\n"
     ]
    }
   ],
   "source": [
    "%%time\n",
    "# EC\n",
    "%run trainer.py"
   ]
  },
  {
   "cell_type": "code",
   "execution_count": null,
   "metadata": {},
   "outputs": [],
   "source": [
    "G.node_num\n",
    "# subgraph = G.g.subgraph(np.arange(5))\n",
    "# subgraph.nodes()\n"
   ]
  },
  {
   "cell_type": "code",
   "execution_count": null,
   "metadata": {},
   "outputs": [],
   "source": [
    "%run data_processor.py"
   ]
  },
  {
   "cell_type": "code",
   "execution_count": null,
   "metadata": {
    "scrolled": true
   },
   "outputs": [],
   "source": [
    "%run build_graph.py"
   ]
  },
  {
   "cell_type": "code",
   "execution_count": null,
   "metadata": {},
   "outputs": [],
   "source": [
    "def b_c(G):\n",
    "    vertices = G.nodes()\n",
    "    new_bc = {}\n",
    "    paths = defaultdict(dict)\n",
    "\n",
    "    # Get shortest paths between all pairs of vertices\n",
    "    for i, vertex in enumerate(vertices[:-1]):\n",
    "        for o_vertex in vertices[i+1:]:\n",
    "            paths[vertex][o_vertex] = [path for path in\n",
    "                                       nx.all_shortest_paths(G, vertex, o_vertex)]\n",
    "\n",
    "    for vertex in vertices:\n",
    "        counter = 0\n",
    "        for i, vertex1 in enumerate(vertices[:-1]):\n",
    "            for vertex2 in vertices[i+1:]:\n",
    "                for path in paths[vertex1][vertex2]:\n",
    "                    if vertex in path[1:-1]:\n",
    "                        counter += 1\n",
    "        new_bc[vertex] = counter\n",
    "\n",
    "    return new_bc"
   ]
  },
  {
   "cell_type": "code",
   "execution_count": null,
   "metadata": {},
   "outputs": [],
   "source": [
    "vertices = G.g.nodes()\n",
    "len(vertices), vertices\n",
    "# for i, vertex in enumerate(vertices[:-1]):\n",
    "#     print(i)"
   ]
  },
  {
   "cell_type": "code",
   "execution_count": null,
   "metadata": {},
   "outputs": [],
   "source": [
    "import torch as th\n",
    "import numpy as np\n",
    "value = [10,20,30]#[1.] * 3\n",
    "shape = (3, 3)\n",
    "indices = th.from_numpy(\n",
    "        np.vstack((list(range(3)), list(range(3)))).astype(np.int64))\n",
    "values = th.FloatTensor(value)\n",
    "shape = th.Size(shape)\n",
    "features = th.sparse.FloatTensor(indices, values, shape)\n",
    "features"
   ]
  },
  {
   "cell_type": "code",
   "execution_count": null,
   "metadata": {},
   "outputs": [],
   "source": [
    "from networkx.algorithms.centrality import eigenvector_centrality\n",
    "ec = eigenvector_centrality(G.g)\n",
    "\n",
    "# موارد زیر جواب ندادن\n",
    "# closeness_centrality\n",
    "#betweenness_centrality\n",
    "# bc = betweenness_centrality(G.g, k =1000)\n",
    "\n",
    "# bc = b_c(G.g)"
   ]
  },
  {
   "cell_type": "code",
   "execution_count": null,
   "metadata": {},
   "outputs": [],
   "source": [
    "# len(ec), ec[1]\n",
    "# type(ec)\n",
    "# ec.value\n",
    "# Creates a sorted dictionary (sorted by key)\n",
    "from collections import OrderedDict\n",
    "\n",
    "# dict = {'ravi':'10','rajnish':'9','sanjeev':'15','yash':'2','suraj':'32'}\n",
    "dict1 = OrderedDict(sorted(ec.items()))\n",
    "# print(dict1)\n",
    "# ec_list = dict1.values()\n",
    "ec_list = [x for x in dict1.values()]\n",
    "# list(ec_list)\n",
    "np.min(ec_list), np.max(ec_list), np.mean(ec_list)"
   ]
  },
  {
   "cell_type": "code",
   "execution_count": null,
   "metadata": {},
   "outputs": [],
   "source": [
    "ec_list[:4]"
   ]
  },
  {
   "cell_type": "code",
   "execution_count": null,
   "metadata": {},
   "outputs": [],
   "source": [
    "# len(G.g.nodes())\n",
    "G.g[0]"
   ]
  },
  {
   "cell_type": "code",
   "execution_count": null,
   "metadata": {},
   "outputs": [],
   "source": [
    "pos = nx.nx_pydot.pydot_layout(G.g)\n",
    "plt.figure()    \n",
    "nx.draw(G.g,pos,edge_color='black',width=1,linewidths=1, node_size=10,node_color='blue',alpha=0.9)\n",
    "plt.axis('on')\n",
    "plt.show()"
   ]
  },
  {
   "cell_type": "code",
   "execution_count": null,
   "metadata": {},
   "outputs": [],
   "source": [
    "import networkx as nx \n",
    "import matplotlib.pyplot as plt \n",
    "\n",
    "fig = plt.figure(figsize=(40, 40)) \n",
    "# G = nx.fast_gnp_random_graph(300, 0.02, seed=1337) \n",
    "nx.draw(G.g, node_size=30) \n",
    "plt.axis('equal') \n",
    "plt.show() \n",
    "fig.savefig('waka.svg')"
   ]
  }
 ],
 "metadata": {
  "kernelspec": {
   "display_name": "Python 3",
   "language": "python",
   "name": "python3"
  },
  "language_info": {
   "codemirror_mode": {
    "name": "ipython",
    "version": 3
   },
   "file_extension": ".py",
   "mimetype": "text/x-python",
   "name": "python",
   "nbconvert_exporter": "python",
   "pygments_lexer": "ipython3",
   "version": "3.7.6"
  }
 },
 "nbformat": 4,
 "nbformat_minor": 4
}
